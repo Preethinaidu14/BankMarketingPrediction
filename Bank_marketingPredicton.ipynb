{
 "cells": [
  {
   "cell_type": "code",
   "execution_count": 103,
   "metadata": {},
   "outputs": [],
   "source": [
    "import pandas as pd\n",
    "import numpy as np\n",
    "import seaborn as sns\n",
    "import matplotlib.pyplot as plt"
   ]
  },
  {
   "cell_type": "code",
   "execution_count": 104,
   "metadata": {},
   "outputs": [],
   "source": [
    "df = pd.read_csv('E:Datasets/bank-marketing.csv',)"
   ]
  },
  {
   "cell_type": "code",
   "execution_count": 105,
   "metadata": {},
   "outputs": [
    {
     "data": {
      "text/html": [
       "<div>\n",
       "<style scoped>\n",
       "    .dataframe tbody tr th:only-of-type {\n",
       "        vertical-align: middle;\n",
       "    }\n",
       "\n",
       "    .dataframe tbody tr th {\n",
       "        vertical-align: top;\n",
       "    }\n",
       "\n",
       "    .dataframe thead th {\n",
       "        text-align: right;\n",
       "    }\n",
       "</style>\n",
       "<table border=\"1\" class=\"dataframe\">\n",
       "  <thead>\n",
       "    <tr style=\"text-align: right;\">\n",
       "      <th></th>\n",
       "      <th>age</th>\n",
       "      <th>job</th>\n",
       "      <th>salary</th>\n",
       "      <th>marital</th>\n",
       "      <th>education</th>\n",
       "      <th>targeted</th>\n",
       "      <th>default</th>\n",
       "      <th>balance</th>\n",
       "      <th>housing</th>\n",
       "      <th>loan</th>\n",
       "      <th>contact</th>\n",
       "      <th>day</th>\n",
       "      <th>month</th>\n",
       "      <th>duration</th>\n",
       "      <th>campaign</th>\n",
       "      <th>pdays</th>\n",
       "      <th>previous</th>\n",
       "      <th>poutcome</th>\n",
       "      <th>response</th>\n",
       "    </tr>\n",
       "  </thead>\n",
       "  <tbody>\n",
       "    <tr>\n",
       "      <th>0</th>\n",
       "      <td>58</td>\n",
       "      <td>management</td>\n",
       "      <td>100000</td>\n",
       "      <td>married</td>\n",
       "      <td>tertiary</td>\n",
       "      <td>yes</td>\n",
       "      <td>no</td>\n",
       "      <td>2143</td>\n",
       "      <td>yes</td>\n",
       "      <td>no</td>\n",
       "      <td>unknown</td>\n",
       "      <td>5</td>\n",
       "      <td>may</td>\n",
       "      <td>261</td>\n",
       "      <td>1</td>\n",
       "      <td>-1</td>\n",
       "      <td>0</td>\n",
       "      <td>unknown</td>\n",
       "      <td>no</td>\n",
       "    </tr>\n",
       "    <tr>\n",
       "      <th>1</th>\n",
       "      <td>44</td>\n",
       "      <td>technician</td>\n",
       "      <td>60000</td>\n",
       "      <td>single</td>\n",
       "      <td>secondary</td>\n",
       "      <td>yes</td>\n",
       "      <td>no</td>\n",
       "      <td>29</td>\n",
       "      <td>yes</td>\n",
       "      <td>no</td>\n",
       "      <td>unknown</td>\n",
       "      <td>5</td>\n",
       "      <td>may</td>\n",
       "      <td>151</td>\n",
       "      <td>1</td>\n",
       "      <td>-1</td>\n",
       "      <td>0</td>\n",
       "      <td>unknown</td>\n",
       "      <td>no</td>\n",
       "    </tr>\n",
       "    <tr>\n",
       "      <th>2</th>\n",
       "      <td>33</td>\n",
       "      <td>entrepreneur</td>\n",
       "      <td>120000</td>\n",
       "      <td>married</td>\n",
       "      <td>secondary</td>\n",
       "      <td>yes</td>\n",
       "      <td>no</td>\n",
       "      <td>2</td>\n",
       "      <td>yes</td>\n",
       "      <td>yes</td>\n",
       "      <td>unknown</td>\n",
       "      <td>5</td>\n",
       "      <td>may</td>\n",
       "      <td>76</td>\n",
       "      <td>1</td>\n",
       "      <td>-1</td>\n",
       "      <td>0</td>\n",
       "      <td>unknown</td>\n",
       "      <td>no</td>\n",
       "    </tr>\n",
       "    <tr>\n",
       "      <th>3</th>\n",
       "      <td>47</td>\n",
       "      <td>blue-collar</td>\n",
       "      <td>20000</td>\n",
       "      <td>married</td>\n",
       "      <td>unknown</td>\n",
       "      <td>no</td>\n",
       "      <td>no</td>\n",
       "      <td>1506</td>\n",
       "      <td>yes</td>\n",
       "      <td>no</td>\n",
       "      <td>unknown</td>\n",
       "      <td>5</td>\n",
       "      <td>may</td>\n",
       "      <td>92</td>\n",
       "      <td>1</td>\n",
       "      <td>-1</td>\n",
       "      <td>0</td>\n",
       "      <td>unknown</td>\n",
       "      <td>no</td>\n",
       "    </tr>\n",
       "    <tr>\n",
       "      <th>4</th>\n",
       "      <td>33</td>\n",
       "      <td>unknown</td>\n",
       "      <td>0</td>\n",
       "      <td>single</td>\n",
       "      <td>unknown</td>\n",
       "      <td>no</td>\n",
       "      <td>no</td>\n",
       "      <td>1</td>\n",
       "      <td>no</td>\n",
       "      <td>no</td>\n",
       "      <td>unknown</td>\n",
       "      <td>5</td>\n",
       "      <td>may</td>\n",
       "      <td>198</td>\n",
       "      <td>1</td>\n",
       "      <td>-1</td>\n",
       "      <td>0</td>\n",
       "      <td>unknown</td>\n",
       "      <td>no</td>\n",
       "    </tr>\n",
       "  </tbody>\n",
       "</table>\n",
       "</div>"
      ],
      "text/plain": [
       "   age           job  salary  marital  education targeted default  balance  \\\n",
       "0   58    management  100000  married   tertiary      yes      no     2143   \n",
       "1   44    technician   60000   single  secondary      yes      no       29   \n",
       "2   33  entrepreneur  120000  married  secondary      yes      no        2   \n",
       "3   47   blue-collar   20000  married    unknown       no      no     1506   \n",
       "4   33       unknown       0   single    unknown       no      no        1   \n",
       "\n",
       "  housing loan  contact  day month  duration  campaign  pdays  previous  \\\n",
       "0     yes   no  unknown    5   may       261         1     -1         0   \n",
       "1     yes   no  unknown    5   may       151         1     -1         0   \n",
       "2     yes  yes  unknown    5   may        76         1     -1         0   \n",
       "3     yes   no  unknown    5   may        92         1     -1         0   \n",
       "4      no   no  unknown    5   may       198         1     -1         0   \n",
       "\n",
       "  poutcome response  \n",
       "0  unknown       no  \n",
       "1  unknown       no  \n",
       "2  unknown       no  \n",
       "3  unknown       no  \n",
       "4  unknown       no  "
      ]
     },
     "execution_count": 105,
     "metadata": {},
     "output_type": "execute_result"
    }
   ],
   "source": [
    "df.head()"
   ]
  },
  {
   "cell_type": "code",
   "execution_count": 106,
   "metadata": {},
   "outputs": [
    {
     "data": {
      "text/plain": [
       "Index(['age', 'job', 'salary', 'marital', 'education', 'targeted', 'default',\n",
       "       'balance', 'housing', 'loan', 'contact', 'day', 'month', 'duration',\n",
       "       'campaign', 'pdays', 'previous', 'poutcome', 'response'],\n",
       "      dtype='object')"
      ]
     },
     "execution_count": 106,
     "metadata": {},
     "output_type": "execute_result"
    }
   ],
   "source": [
    "df.columns"
   ]
  },
  {
   "cell_type": "code",
   "execution_count": 107,
   "metadata": {},
   "outputs": [
    {
     "data": {
      "text/plain": [
       "(45211, 19)"
      ]
     },
     "execution_count": 107,
     "metadata": {},
     "output_type": "execute_result"
    }
   ],
   "source": [
    "df.shape"
   ]
  },
  {
   "cell_type": "code",
   "execution_count": 108,
   "metadata": {},
   "outputs": [
    {
     "data": {
      "text/plain": [
       "age          0\n",
       "job          0\n",
       "salary       0\n",
       "marital      0\n",
       "education    0\n",
       "targeted     0\n",
       "default      0\n",
       "balance      0\n",
       "housing      0\n",
       "loan         0\n",
       "contact      0\n",
       "day          0\n",
       "month        0\n",
       "duration     0\n",
       "campaign     0\n",
       "pdays        0\n",
       "previous     0\n",
       "poutcome     0\n",
       "response     0\n",
       "dtype: int64"
      ]
     },
     "execution_count": 108,
     "metadata": {},
     "output_type": "execute_result"
    }
   ],
   "source": [
    "df.isnull().sum()"
   ]
  },
  {
   "cell_type": "code",
   "execution_count": 109,
   "metadata": {},
   "outputs": [
    {
     "name": "stdout",
     "output_type": "stream",
     "text": [
      "age\n",
      "[58 44 33 47 35 28 42 43 41 29 53 57 51 45 60 56 32 25 40 39 52 46 36 49\n",
      " 59 37 50 54 55 48 24 38 31 30 27 34 23 26 61 22 21 20 66 62 83 75 67 70\n",
      " 65 68 64 69 72 71 19 76 85 63 90 82 73 74 78 80 94 79 77 86 95 81 18 89\n",
      " 84 87 92 93 88]\n",
      "__________________________________________________________\n",
      "job\n",
      "['management' 'technician' 'entrepreneur' 'blue-collar' 'unknown'\n",
      " 'retired' 'admin.' 'services' 'self-employed' 'unemployed' 'housemaid'\n",
      " 'student']\n",
      "__________________________________________________________\n",
      "salary\n",
      "[100000  60000 120000  20000      0  55000  50000  70000   8000  16000\n",
      "   4000]\n",
      "__________________________________________________________\n",
      "marital\n",
      "['married' 'single' 'divorced']\n",
      "__________________________________________________________\n",
      "education\n",
      "['tertiary' 'secondary' 'unknown' 'primary']\n",
      "__________________________________________________________\n",
      "targeted\n",
      "['yes' 'no']\n",
      "__________________________________________________________\n",
      "default\n",
      "['no' 'yes']\n",
      "__________________________________________________________\n",
      "balance\n",
      "[ 2143    29     2 ...  8205 14204 16353]\n",
      "__________________________________________________________\n",
      "housing\n",
      "['yes' 'no']\n",
      "__________________________________________________________\n",
      "loan\n",
      "['no' 'yes']\n",
      "__________________________________________________________\n",
      "contact\n",
      "['unknown' 'cellular' 'telephone']\n",
      "__________________________________________________________\n",
      "day\n",
      "[ 5  6  7  8  9 12 13 14 15 16 19 20 21 23 26 27 28 29 30  2  3  4 11 17\n",
      " 18 24 25  1 10 22 31]\n",
      "__________________________________________________________\n",
      "month\n",
      "['may' 'jun' 'jul' 'aug' 'oct' 'nov' 'dec' 'jan' 'feb' 'mar' 'apr' 'sep']\n",
      "__________________________________________________________\n",
      "duration\n",
      "[ 261  151   76 ... 1298 1246 1556]\n",
      "__________________________________________________________\n",
      "campaign\n",
      "[ 1  2  3  5  4  6  7  8  9 10 11 12 13 19 14 24 16 32 18 22 15 17 25 21\n",
      " 43 51 63 41 26 28 55 50 38 23 20 29 31 37 30 46 27 58 33 35 34 36 39 44]\n",
      "__________________________________________________________\n",
      "pdays\n",
      "[ -1 151 166  91  86 143 147  89 140 176 101 174 170 167 195 165 129 188\n",
      " 196 172 118 119 104 171 117 164 132 131 123 159 186 111 115 116 173 178\n",
      " 110 152  96 103 150 175 193 181 185 154 145 138 126 180 109 158 168  97\n",
      " 182 127 130 194 125 105 102  26 179  28 183 155 112 120 137 124 187 190\n",
      " 113 162 134 169 189   8 144 191 184 177   5  99 133  93  92  10 100 156\n",
      " 198 106 153 146 128   7 121 160 107  90  27 197 136 139 122 157 149 135\n",
      "  30 114  98 192 163  34  95 141  31 199  94 108  29 268 247 253 226 244\n",
      " 239 245 204 231 238 258 230 254 265  71 223 246 250 266 240 205 261 259\n",
      " 241 260 234 251 225 161 237 262 248 255 220 227 206 224 249 235 228 263\n",
      "   2 270 232 252 207 200 269 233 256 273 272 242 264 208 214 222 271 203\n",
      " 221 202 216 201 257 229 210 217  75 213  73  76 267 211 215  77 236  82\n",
      "   6 209 274   1 243 212 275  80 276   9 279  12 280  88 277  85  84 219\n",
      "  24  21 282  41 294  49 329 307 303 331 308 300  64 314 287 330 332 302\n",
      " 323 318 333  60 326 335 313 312 305 325 327 336 309 328 322  39 316 292\n",
      " 295 310 306 320 317 289  57 321 142 339 301 315 337 334 340 319  17  74\n",
      " 148 341 299 344 342 324 345 346 304 281 343 338  14 347  15 291 348 349\n",
      " 285 350 284  25 283 278  81   4  87  83  79  70  13 293  37  78  63  22\n",
      " 296 355  66  19  35 360 357 354 351 362 358 365 298 286 364 363  47 361\n",
      " 288 366 356 352 359 297 367 353 368  42 290  67 371 370 369  50  36 373\n",
      " 374 372 311 375 378  59 379  40  18  43  20  69  38 385  56  55  44 391\n",
      "  72 390  32  62 399 393  65 377 395 388 389 386  61 412 405 434 394 382\n",
      " 459 440 397 383  68 461 462 463 422  51 457 430 442 403 454 428 392 410\n",
      " 401 474 475 477 478  54 476 380 479  45  46 495  58  48 518  52 515 520\n",
      " 511 536 387 218  33 544 435 436 555 433 446 558 469 616 561 553 384 592\n",
      " 467 585 480 421 667 626 426 595 381 376 648 521 452 449 633 398  53 460\n",
      " 670 551 414 557 687 404 651 686 425 504 578 674 416 586 411 756 450 745\n",
      " 514 417 424 776 396 683 529 439 415 456 407 458 532 481 791 701 531 792\n",
      " 413 445 535 784 419 455 491 431 542 470 472 717 437   3 782 728 828 524\n",
      " 562 761 492 775 579 493 464 760 466 465 656 831 490 432 655 427 749 838\n",
      " 769 587 778 854 779 850 771 594 842 589 603 484 489 486 409 444 680 808\n",
      " 485 503 690 772 774 526 420 528 500 826 804 508 547 805 541 543 871 550\n",
      " 530]\n",
      "__________________________________________________________\n",
      "previous\n",
      "[  0   3   1   4   2  11  16   6   5  10  12   7  18   9  21   8  14  15\n",
      "  26  37  13  25  20  27  17  23  38  29  24  51 275  22  19  30  58  28\n",
      "  32  40  55  35  41]\n",
      "__________________________________________________________\n",
      "poutcome\n",
      "['unknown' 'failure' 'other' 'success']\n",
      "__________________________________________________________\n",
      "response\n",
      "['no' 'yes']\n",
      "__________________________________________________________\n"
     ]
    }
   ],
   "source": [
    "for col in df.columns:\n",
    "    print(col)\n",
    "    print(df[col].unique())\n",
    "    print('__________________________________________________________')"
   ]
  },
  {
   "cell_type": "markdown",
   "metadata": {},
   "source": [
    "#### Describe the pdays column, make note of the mean, median and minimum values. Anything fishy in the values?"
   ]
  },
  {
   "cell_type": "markdown",
   "metadata": {},
   "source": [
    "p-days : number of days that passed by after the client was last contacted from a previous campaign "
   ]
  },
  {
   "cell_type": "code",
   "execution_count": 110,
   "metadata": {},
   "outputs": [
    {
     "data": {
      "text/plain": [
       "-1      36954\n",
       " 182      167\n",
       " 92       147\n",
       " 183      126\n",
       " 91       126\n",
       "        ...  \n",
       " 749        1\n",
       " 717        1\n",
       " 589        1\n",
       " 493        1\n",
       " 32         1\n",
       "Name: pdays, Length: 559, dtype: int64"
      ]
     },
     "execution_count": 110,
     "metadata": {},
     "output_type": "execute_result"
    }
   ],
   "source": [
    "df['pdays'].value_counts()"
   ]
  },
  {
   "cell_type": "markdown",
   "metadata": {},
   "source": [
    "Since, pdays is the number of times the client was contacted and the values of pdays can only be positive values. So, we will filter all the values which are less than 0. And, in our pdays column we have -1 value which is not correct. "
   ]
  },
  {
   "cell_type": "code",
   "execution_count": 111,
   "metadata": {},
   "outputs": [
    {
     "data": {
      "text/plain": [
       "-1"
      ]
     },
     "execution_count": 111,
     "metadata": {},
     "output_type": "execute_result"
    }
   ],
   "source": [
    "df['pdays'].min()"
   ]
  },
  {
   "cell_type": "code",
   "execution_count": 112,
   "metadata": {},
   "outputs": [
    {
     "data": {
      "text/plain": [
       "-1.0"
      ]
     },
     "execution_count": 112,
     "metadata": {},
     "output_type": "execute_result"
    }
   ],
   "source": [
    "df['pdays'].median()"
   ]
  },
  {
   "cell_type": "code",
   "execution_count": 113,
   "metadata": {},
   "outputs": [
    {
     "data": {
      "text/plain": [
       "40.19782796222158"
      ]
     },
     "execution_count": 113,
     "metadata": {},
     "output_type": "execute_result"
    }
   ],
   "source": [
    "df['pdays'].mean()"
   ]
  },
  {
   "cell_type": "code",
   "execution_count": 114,
   "metadata": {},
   "outputs": [
    {
     "data": {
      "text/plain": [
       "45211"
      ]
     },
     "execution_count": 114,
     "metadata": {},
     "output_type": "execute_result"
    }
   ],
   "source": [
    "len(df)"
   ]
  },
  {
   "cell_type": "markdown",
   "metadata": {},
   "source": [
    "#### Describe the pdays column again, this time limiting yourself to the relevant values of pdays. How different are the mean and the median values?"
   ]
  },
  {
   "cell_type": "code",
   "execution_count": 115,
   "metadata": {},
   "outputs": [
    {
     "data": {
      "text/plain": [
       "0.5175731569750724"
      ]
     },
     "execution_count": 115,
     "metadata": {},
     "output_type": "execute_result"
    }
   ],
   "source": [
    "len (df[df['pdays'] > 400] ) / len(df) * 100"
   ]
  },
  {
   "cell_type": "markdown",
   "metadata": {},
   "source": [
    "'pdays' holds the number of days that passed by after the client was last contacted from a previous campaign Looking closer into 'pdays' data we can see that:\n",
    "* only 0.5% of values above 400. They are possibly outliers, so we should consider imputing something (possibly mean value) instead of these values.\n",
    "* -1 possibly means that the client wasn't contacted before or stands for missing data."
   ]
  },
  {
   "cell_type": "markdown",
   "metadata": {},
   "source": [
    "Since we are not sure exactly what -1 means I suggest to drop this column, because -1 makes more than 50% of the values of the column."
   ]
  },
  {
   "cell_type": "code",
   "execution_count": 116,
   "metadata": {},
   "outputs": [],
   "source": [
    "df.drop(columns = ['pdays'], axis = 0, inplace = True)"
   ]
  },
  {
   "cell_type": "markdown",
   "metadata": {},
   "source": [
    "#### Plot a horizontal bar graph with the median values of balance for each education level value. Which group has the highest median?"
   ]
  },
  {
   "cell_type": "code",
   "execution_count": 117,
   "metadata": {},
   "outputs": [
    {
     "data": {
      "text/html": [
       "<div>\n",
       "<style scoped>\n",
       "    .dataframe tbody tr th:only-of-type {\n",
       "        vertical-align: middle;\n",
       "    }\n",
       "\n",
       "    .dataframe tbody tr th {\n",
       "        vertical-align: top;\n",
       "    }\n",
       "\n",
       "    .dataframe thead th {\n",
       "        text-align: right;\n",
       "    }\n",
       "</style>\n",
       "<table border=\"1\" class=\"dataframe\">\n",
       "  <thead>\n",
       "    <tr style=\"text-align: right;\">\n",
       "      <th></th>\n",
       "      <th>education</th>\n",
       "      <th>balance</th>\n",
       "    </tr>\n",
       "  </thead>\n",
       "  <tbody>\n",
       "    <tr>\n",
       "      <th>0</th>\n",
       "      <td>primary</td>\n",
       "      <td>403</td>\n",
       "    </tr>\n",
       "    <tr>\n",
       "      <th>1</th>\n",
       "      <td>secondary</td>\n",
       "      <td>392</td>\n",
       "    </tr>\n",
       "    <tr>\n",
       "      <th>2</th>\n",
       "      <td>tertiary</td>\n",
       "      <td>577</td>\n",
       "    </tr>\n",
       "    <tr>\n",
       "      <th>3</th>\n",
       "      <td>unknown</td>\n",
       "      <td>568</td>\n",
       "    </tr>\n",
       "  </tbody>\n",
       "</table>\n",
       "</div>"
      ],
      "text/plain": [
       "   education  balance\n",
       "0    primary      403\n",
       "1  secondary      392\n",
       "2   tertiary      577\n",
       "3    unknown      568"
      ]
     },
     "execution_count": 117,
     "metadata": {},
     "output_type": "execute_result"
    }
   ],
   "source": [
    "bal_edu = pd.pivot_table(data = df,values = 'balance', index = 'education', aggfunc= 'median').reset_index()\n",
    "\n",
    "bal_edu"
   ]
  },
  {
   "cell_type": "code",
   "execution_count": 118,
   "metadata": {},
   "outputs": [
    {
     "data": {
      "image/png": "[encoded data removed]",
      "text/plain": [
       "<Figure size 432x288 with 1 Axes>"
      ]
     },
     "metadata": {
      "needs_background": "light"
     },
     "output_type": "display_data"
    }
   ],
   "source": [
    "sns.barplot(x = 'balance',y = 'education', data = bal_edu)\n",
    "plt.show()"
   ]
  },
  {
   "cell_type": "markdown",
   "metadata": {},
   "source": [
    "#### Are the features about the previous campaign data useful?"
   ]
  },
  {
   "cell_type": "code",
   "execution_count": 119,
   "metadata": {},
   "outputs": [
    {
     "data": {
      "text/plain": [
       "0.024330362080024773"
      ]
     },
     "execution_count": 119,
     "metadata": {},
     "output_type": "execute_result"
    }
   ],
   "source": [
    "len (df[df['previous'] > 34] ) / len(df) * 100"
   ]
  },
  {
   "cell_type": "code",
   "execution_count": 120,
   "metadata": {},
   "outputs": [
    {
     "data": {
      "text/plain": [
       "0    36954\n",
       "1     2772\n",
       "2     2106\n",
       "3     1142\n",
       "4      714\n",
       "Name: previous, dtype: int64"
      ]
     },
     "execution_count": 120,
     "metadata": {},
     "output_type": "execute_result"
    }
   ],
   "source": [
    "df.previous.value_counts()[:5]"
   ]
  },
  {
   "cell_type": "markdown",
   "metadata": {},
   "source": [
    "'previous' holds the number of contacts performed before this campaign and for this client (numeric).\n",
    "\n",
    "There are approxiamately 80% rows with zero entries in previous columns and replacing it with some statistic measure will of no use. So we will drop previous column from the data. "
   ]
  },
  {
   "cell_type": "code",
   "execution_count": 121,
   "metadata": {},
   "outputs": [],
   "source": [
    "df.drop('previous', axis = 1, inplace = True)"
   ]
  },
  {
   "cell_type": "markdown",
   "metadata": {},
   "source": [
    "#### Make suitable plots for associations with numerical features and categorical features’"
   ]
  },
  {
   "cell_type": "code",
   "execution_count": 122,
   "metadata": {},
   "outputs": [
    {
     "data": {
      "text/html": [
       "<div>\n",
       "<style scoped>\n",
       "    .dataframe tbody tr th:only-of-type {\n",
       "        vertical-align: middle;\n",
       "    }\n",
       "\n",
       "    .dataframe tbody tr th {\n",
       "        vertical-align: top;\n",
       "    }\n",
       "\n",
       "    .dataframe thead th {\n",
       "        text-align: right;\n",
       "    }\n",
       "</style>\n",
       "<table border=\"1\" class=\"dataframe\">\n",
       "  <thead>\n",
       "    <tr style=\"text-align: right;\">\n",
       "      <th></th>\n",
       "      <th>age</th>\n",
       "      <th>job</th>\n",
       "      <th>salary</th>\n",
       "      <th>marital</th>\n",
       "      <th>education</th>\n",
       "      <th>targeted</th>\n",
       "      <th>default</th>\n",
       "      <th>balance</th>\n",
       "      <th>housing</th>\n",
       "      <th>loan</th>\n",
       "      <th>contact</th>\n",
       "      <th>day</th>\n",
       "      <th>month</th>\n",
       "      <th>duration</th>\n",
       "      <th>campaign</th>\n",
       "      <th>poutcome</th>\n",
       "      <th>response</th>\n",
       "    </tr>\n",
       "  </thead>\n",
       "  <tbody>\n",
       "    <tr>\n",
       "      <th>0</th>\n",
       "      <td>58</td>\n",
       "      <td>management</td>\n",
       "      <td>100000</td>\n",
       "      <td>married</td>\n",
       "      <td>tertiary</td>\n",
       "      <td>yes</td>\n",
       "      <td>no</td>\n",
       "      <td>2143</td>\n",
       "      <td>yes</td>\n",
       "      <td>no</td>\n",
       "      <td>unknown</td>\n",
       "      <td>5</td>\n",
       "      <td>may</td>\n",
       "      <td>261</td>\n",
       "      <td>1</td>\n",
       "      <td>unknown</td>\n",
       "      <td>no</td>\n",
       "    </tr>\n",
       "    <tr>\n",
       "      <th>1</th>\n",
       "      <td>44</td>\n",
       "      <td>technician</td>\n",
       "      <td>60000</td>\n",
       "      <td>single</td>\n",
       "      <td>secondary</td>\n",
       "      <td>yes</td>\n",
       "      <td>no</td>\n",
       "      <td>29</td>\n",
       "      <td>yes</td>\n",
       "      <td>no</td>\n",
       "      <td>unknown</td>\n",
       "      <td>5</td>\n",
       "      <td>may</td>\n",
       "      <td>151</td>\n",
       "      <td>1</td>\n",
       "      <td>unknown</td>\n",
       "      <td>no</td>\n",
       "    </tr>\n",
       "    <tr>\n",
       "      <th>2</th>\n",
       "      <td>33</td>\n",
       "      <td>entrepreneur</td>\n",
       "      <td>120000</td>\n",
       "      <td>married</td>\n",
       "      <td>secondary</td>\n",
       "      <td>yes</td>\n",
       "      <td>no</td>\n",
       "      <td>2</td>\n",
       "      <td>yes</td>\n",
       "      <td>yes</td>\n",
       "      <td>unknown</td>\n",
       "      <td>5</td>\n",
       "      <td>may</td>\n",
       "      <td>76</td>\n",
       "      <td>1</td>\n",
       "      <td>unknown</td>\n",
       "      <td>no</td>\n",
       "    </tr>\n",
       "    <tr>\n",
       "      <th>3</th>\n",
       "      <td>47</td>\n",
       "      <td>blue-collar</td>\n",
       "      <td>20000</td>\n",
       "      <td>married</td>\n",
       "      <td>unknown</td>\n",
       "      <td>no</td>\n",
       "      <td>no</td>\n",
       "      <td>1506</td>\n",
       "      <td>yes</td>\n",
       "      <td>no</td>\n",
       "      <td>unknown</td>\n",
       "      <td>5</td>\n",
       "      <td>may</td>\n",
       "      <td>92</td>\n",
       "      <td>1</td>\n",
       "      <td>unknown</td>\n",
       "      <td>no</td>\n",
       "    </tr>\n",
       "    <tr>\n",
       "      <th>4</th>\n",
       "      <td>33</td>\n",
       "      <td>unknown</td>\n",
       "      <td>0</td>\n",
       "      <td>single</td>\n",
       "      <td>unknown</td>\n",
       "      <td>no</td>\n",
       "      <td>no</td>\n",
       "      <td>1</td>\n",
       "      <td>no</td>\n",
       "      <td>no</td>\n",
       "      <td>unknown</td>\n",
       "      <td>5</td>\n",
       "      <td>may</td>\n",
       "      <td>198</td>\n",
       "      <td>1</td>\n",
       "      <td>unknown</td>\n",
       "      <td>no</td>\n",
       "    </tr>\n",
       "  </tbody>\n",
       "</table>\n",
       "</div>"
      ],
      "text/plain": [
       "   age           job  salary  marital  education targeted default  balance  \\\n",
       "0   58    management  100000  married   tertiary      yes      no     2143   \n",
       "1   44    technician   60000   single  secondary      yes      no       29   \n",
       "2   33  entrepreneur  120000  married  secondary      yes      no        2   \n",
       "3   47   blue-collar   20000  married    unknown       no      no     1506   \n",
       "4   33       unknown       0   single    unknown       no      no        1   \n",
       "\n",
       "  housing loan  contact  day month  duration  campaign poutcome response  \n",
       "0     yes   no  unknown    5   may       261         1  unknown       no  \n",
       "1     yes   no  unknown    5   may       151         1  unknown       no  \n",
       "2     yes  yes  unknown    5   may        76         1  unknown       no  \n",
       "3     yes   no  unknown    5   may        92         1  unknown       no  \n",
       "4      no   no  unknown    5   may       198         1  unknown       no  "
      ]
     },
     "execution_count": 122,
     "metadata": {},
     "output_type": "execute_result"
    }
   ],
   "source": [
    "df.head()"
   ]
  },
  {
   "cell_type": "code",
   "execution_count": 123,
   "metadata": {},
   "outputs": [
    {
     "data": {
      "text/plain": [
       "array(['married', 'single', 'divorced'], dtype=object)"
      ]
     },
     "execution_count": 123,
     "metadata": {},
     "output_type": "execute_result"
    }
   ],
   "source": [
    "df.marital.unique()"
   ]
  },
  {
   "cell_type": "code",
   "execution_count": 124,
   "metadata": {},
   "outputs": [
    {
     "data": {
      "text/plain": [
       "(45211, 17)"
      ]
     },
     "execution_count": 124,
     "metadata": {},
     "output_type": "execute_result"
    }
   ],
   "source": [
    "df.shape"
   ]
  },
  {
   "cell_type": "code",
   "execution_count": 125,
   "metadata": {},
   "outputs": [
    {
     "name": "stderr",
     "output_type": "stream",
     "text": [
      "C:\\Users\\admin\\anaconda3\\lib\\site-packages\\seaborn\\_decorators.py:36: FutureWarning: Pass the following variable as a keyword arg: x. From version 0.12, the only valid positional argument will be `data`, and passing other arguments without an explicit keyword will result in an error or misinterpretation.\n",
      "  warnings.warn(\n"
     ]
    },
    {
     "data": {
      "image/png": "[encoded data removed]",
      "text/plain": [
       "<Figure size 432x288 with 1 Axes>"
      ]
     },
     "metadata": {
      "needs_background": "light"
     },
     "output_type": "display_data"
    }
   ],
   "source": [
    "sns.countplot(df['loan'])\n",
    "plt.title('Personal Loan')\n",
    "plt.show()"
   ]
  },
  {
   "cell_type": "code",
   "execution_count": 126,
   "metadata": {},
   "outputs": [
    {
     "name": "stderr",
     "output_type": "stream",
     "text": [
      "C:\\Users\\admin\\anaconda3\\lib\\site-packages\\seaborn\\_decorators.py:36: FutureWarning: Pass the following variable as a keyword arg: x. From version 0.12, the only valid positional argument will be `data`, and passing other arguments without an explicit keyword will result in an error or misinterpretation.\n",
      "  warnings.warn(\n"
     ]
    },
    {
     "data": {
      "image/png": "[encoded data removed]",
      "text/plain": [
       "<Figure size 432x288 with 1 Axes>"
      ]
     },
     "metadata": {
      "needs_background": "light"
     },
     "output_type": "display_data"
    }
   ],
   "source": [
    "sns.countplot(df['housing'])\n",
    "plt.title('Housing loan')\n",
    "plt.show()"
   ]
  },
  {
   "cell_type": "code",
   "execution_count": 127,
   "metadata": {},
   "outputs": [
    {
     "data": {
      "image/png": "[encoded data removed]",
      "text/plain": [
       "<Figure size 432x288 with 1 Axes>"
      ]
     },
     "metadata": {
      "needs_background": "light"
     },
     "output_type": "display_data"
    }
   ],
   "source": [
    "sns.barplot(y = 'job', x = 'salary',data = df )\n",
    "plt.show()"
   ]
  },
  {
   "cell_type": "code",
   "execution_count": 128,
   "metadata": {},
   "outputs": [
    {
     "data": {
      "image/png": "[encoded data removed]",
      "text/plain": [
       "<Figure size 432x288 with 1 Axes>"
      ]
     },
     "metadata": {
      "needs_background": "light"
     },
     "output_type": "display_data"
    }
   ],
   "source": [
    "sns.barplot(y ='job', x = 'balance', data = df)\n",
    "plt.show()"
   ]
  },
  {
   "cell_type": "code",
   "execution_count": 129,
   "metadata": {},
   "outputs": [
    {
     "data": {
      "image/png": "[encoded data removed]",
      "text/plain": [
       "<Figure size 432x288 with 1 Axes>"
      ]
     },
     "metadata": {
      "needs_background": "light"
     },
     "output_type": "display_data"
    }
   ],
   "source": [
    "sns.lineplot(x = 'poutcome', y = 'duration', data = df)\n",
    "plt.show()"
   ]
  },
  {
   "cell_type": "code",
   "execution_count": 130,
   "metadata": {},
   "outputs": [
    {
     "data": {
      "image/png": "[encoded data removed]",
      "text/plain": [
       "<Figure size 432x288 with 1 Axes>"
      ]
     },
     "metadata": {
      "needs_background": "light"
     },
     "output_type": "display_data"
    }
   ],
   "source": [
    "#job and deposit\n",
    "df1 = pd.DataFrame()\n",
    "\n",
    "df1['yes'] = df[df['response'] == 'yes']['job'].value_counts()\n",
    "df1['no'] = df[df['response'] == 'no']['job'].value_counts()\n",
    "\n",
    "df1.plot.bar(title = 'Job and response', color = ['blue', 'green'])\n",
    "plt.show()"
   ]
  },
  {
   "cell_type": "code",
   "execution_count": 131,
   "metadata": {},
   "outputs": [
    {
     "data": {
      "image/png": "[encoded data removed]",
      "text/plain": [
       "<Figure size 432x288 with 1 Axes>"
      ]
     },
     "metadata": {
      "needs_background": "light"
     },
     "output_type": "display_data"
    }
   ],
   "source": [
    "df1 = pd.DataFrame()\n",
    "df1['yes'] = df[df['response'] == 'yes']['education'].value_counts()\n",
    "df1['no'] = df[df['response']== 'no']['education'].value_counts()\n",
    "df1.plot.bar(title = 'education and response')\n",
    "plt.show()"
   ]
  },
  {
   "cell_type": "code",
   "execution_count": 132,
   "metadata": {},
   "outputs": [
    {
     "data": {
      "image/png": "[encoded data removed]",
      "text/plain": [
       "<Figure size 432x288 with 1 Axes>"
      ]
     },
     "metadata": {
      "needs_background": "light"
     },
     "output_type": "display_data"
    }
   ],
   "source": [
    "df1 = pd.DataFrame()\n",
    "df1['yes'] = df[df['response'] == 'yes']['marital'].value_counts()\n",
    "df1['no'] = df[df['response']== 'no']['marital'].value_counts()\n",
    "df1.plot.bar(title = 'marital and response', color = ['black', 'red'])\n",
    "plt.show()"
   ]
  },
  {
   "cell_type": "code",
   "execution_count": 133,
   "metadata": {},
   "outputs": [
    {
     "data": {
      "image/png": "[encoded data removed]",
      "text/plain": [
       "<Figure size 432x288 with 1 Axes>"
      ]
     },
     "metadata": {
      "needs_background": "light"
     },
     "output_type": "display_data"
    }
   ],
   "source": [
    "df1 = pd.DataFrame()\n",
    "df1['yes'] = df[df['response'] == 'yes']['contact'].value_counts()\n",
    "df1['no'] = df[df['response']== 'no']['contact'].value_counts()\n",
    "df1.plot.bar(title = 'contact and response',color = ['cyan','blue'])\n",
    "plt.show()"
   ]
  },
  {
   "cell_type": "markdown",
   "metadata": {},
   "source": [
    "#### Convert the response variable to a convenient form"
   ]
  },
  {
   "cell_type": "code",
   "execution_count": 134,
   "metadata": {},
   "outputs": [],
   "source": [
    "df['response'] = df['response'].map({'yes': 1, 'no': 0}) "
   ]
  },
  {
   "cell_type": "markdown",
   "metadata": {},
   "source": [
    "#### Extracting Features and Columns"
   ]
  },
  {
   "cell_type": "code",
   "execution_count": 135,
   "metadata": {},
   "outputs": [],
   "source": [
    "X = df.drop('response', axis = 1)\n",
    "y = df['response']"
   ]
  },
  {
   "cell_type": "markdown",
   "metadata": {},
   "source": [
    "#### All the features should be numeric"
   ]
  },
  {
   "cell_type": "code",
   "execution_count": 136,
   "metadata": {},
   "outputs": [],
   "source": [
    "X = pd.get_dummies(data = X, drop_first= True)"
   ]
  },
  {
   "cell_type": "markdown",
   "metadata": {},
   "source": [
    "####  Train Test Split"
   ]
  },
  {
   "cell_type": "code",
   "execution_count": 137,
   "metadata": {},
   "outputs": [],
   "source": [
    "from sklearn.model_selection import train_test_split"
   ]
  },
  {
   "cell_type": "code",
   "execution_count": 138,
   "metadata": {},
   "outputs": [],
   "source": [
    "X_train,X_test, y_train,y_test = train_test_split(X,y, test_size = 0.3, random_state = 10, stratify = y)"
   ]
  },
  {
   "cell_type": "code",
   "execution_count": 139,
   "metadata": {},
   "outputs": [
    {
     "name": "stdout",
     "output_type": "stream",
     "text": [
      "X_train shape : (31647, 42) \n",
      "X_test shape : (13564, 42) \n",
      "y_train shape : (31647,)\n",
      "y_test shape : (13564,)\n"
     ]
    }
   ],
   "source": [
    "print(f'X_train shape : {X_train.shape} \\nX_test shape : {X_test.shape} \\ny_train shape : {y_train.shape}\\ny_test shape : {y_test.shape}')"
   ]
  },
  {
   "cell_type": "markdown",
   "metadata": {},
   "source": [
    "#### Features should be of same scale"
   ]
  },
  {
   "cell_type": "code",
   "execution_count": 140,
   "metadata": {},
   "outputs": [
    {
     "data": {
      "text/html": [
       "<div>\n",
       "<style scoped>\n",
       "    .dataframe tbody tr th:only-of-type {\n",
       "        vertical-align: middle;\n",
       "    }\n",
       "\n",
       "    .dataframe tbody tr th {\n",
       "        vertical-align: top;\n",
       "    }\n",
       "\n",
       "    .dataframe thead th {\n",
       "        text-align: right;\n",
       "    }\n",
       "</style>\n",
       "<table border=\"1\" class=\"dataframe\">\n",
       "  <thead>\n",
       "    <tr style=\"text-align: right;\">\n",
       "      <th></th>\n",
       "      <th>age</th>\n",
       "      <th>salary</th>\n",
       "      <th>balance</th>\n",
       "      <th>day</th>\n",
       "      <th>duration</th>\n",
       "      <th>campaign</th>\n",
       "      <th>job_blue-collar</th>\n",
       "      <th>job_entrepreneur</th>\n",
       "      <th>job_housemaid</th>\n",
       "      <th>job_management</th>\n",
       "      <th>...</th>\n",
       "      <th>month_jul</th>\n",
       "      <th>month_jun</th>\n",
       "      <th>month_mar</th>\n",
       "      <th>month_may</th>\n",
       "      <th>month_nov</th>\n",
       "      <th>month_oct</th>\n",
       "      <th>month_sep</th>\n",
       "      <th>poutcome_other</th>\n",
       "      <th>poutcome_success</th>\n",
       "      <th>poutcome_unknown</th>\n",
       "    </tr>\n",
       "  </thead>\n",
       "  <tbody>\n",
       "    <tr>\n",
       "      <th>count</th>\n",
       "      <td>45211.000000</td>\n",
       "      <td>45211.000000</td>\n",
       "      <td>45211.000000</td>\n",
       "      <td>45211.000000</td>\n",
       "      <td>45211.000000</td>\n",
       "      <td>45211.000000</td>\n",
       "      <td>45211.000000</td>\n",
       "      <td>45211.000000</td>\n",
       "      <td>45211.000000</td>\n",
       "      <td>45211.000000</td>\n",
       "      <td>...</td>\n",
       "      <td>45211.000000</td>\n",
       "      <td>45211.000000</td>\n",
       "      <td>45211.000000</td>\n",
       "      <td>45211.000000</td>\n",
       "      <td>45211.000000</td>\n",
       "      <td>45211.000000</td>\n",
       "      <td>45211.000000</td>\n",
       "      <td>45211.000000</td>\n",
       "      <td>45211.000000</td>\n",
       "      <td>45211.000000</td>\n",
       "    </tr>\n",
       "    <tr>\n",
       "      <th>mean</th>\n",
       "      <td>40.936210</td>\n",
       "      <td>57006.171065</td>\n",
       "      <td>1362.272058</td>\n",
       "      <td>15.806419</td>\n",
       "      <td>258.163080</td>\n",
       "      <td>2.763841</td>\n",
       "      <td>0.215257</td>\n",
       "      <td>0.032890</td>\n",
       "      <td>0.027427</td>\n",
       "      <td>0.209197</td>\n",
       "      <td>...</td>\n",
       "      <td>0.152507</td>\n",
       "      <td>0.118135</td>\n",
       "      <td>0.010551</td>\n",
       "      <td>0.304483</td>\n",
       "      <td>0.087810</td>\n",
       "      <td>0.016323</td>\n",
       "      <td>0.012807</td>\n",
       "      <td>0.040698</td>\n",
       "      <td>0.033421</td>\n",
       "      <td>0.817478</td>\n",
       "    </tr>\n",
       "    <tr>\n",
       "      <th>std</th>\n",
       "      <td>10.618762</td>\n",
       "      <td>32085.718415</td>\n",
       "      <td>3044.765829</td>\n",
       "      <td>8.322476</td>\n",
       "      <td>257.527812</td>\n",
       "      <td>3.098021</td>\n",
       "      <td>0.411005</td>\n",
       "      <td>0.178351</td>\n",
       "      <td>0.163326</td>\n",
       "      <td>0.406740</td>\n",
       "      <td>...</td>\n",
       "      <td>0.359516</td>\n",
       "      <td>0.322771</td>\n",
       "      <td>0.102174</td>\n",
       "      <td>0.460193</td>\n",
       "      <td>0.283022</td>\n",
       "      <td>0.126718</td>\n",
       "      <td>0.112441</td>\n",
       "      <td>0.197592</td>\n",
       "      <td>0.179735</td>\n",
       "      <td>0.386278</td>\n",
       "    </tr>\n",
       "    <tr>\n",
       "      <th>min</th>\n",
       "      <td>18.000000</td>\n",
       "      <td>0.000000</td>\n",
       "      <td>-8019.000000</td>\n",
       "      <td>1.000000</td>\n",
       "      <td>0.000000</td>\n",
       "      <td>1.000000</td>\n",
       "      <td>0.000000</td>\n",
       "      <td>0.000000</td>\n",
       "      <td>0.000000</td>\n",
       "      <td>0.000000</td>\n",
       "      <td>...</td>\n",
       "      <td>0.000000</td>\n",
       "      <td>0.000000</td>\n",
       "      <td>0.000000</td>\n",
       "      <td>0.000000</td>\n",
       "      <td>0.000000</td>\n",
       "      <td>0.000000</td>\n",
       "      <td>0.000000</td>\n",
       "      <td>0.000000</td>\n",
       "      <td>0.000000</td>\n",
       "      <td>0.000000</td>\n",
       "    </tr>\n",
       "    <tr>\n",
       "      <th>25%</th>\n",
       "      <td>33.000000</td>\n",
       "      <td>20000.000000</td>\n",
       "      <td>72.000000</td>\n",
       "      <td>8.000000</td>\n",
       "      <td>103.000000</td>\n",
       "      <td>1.000000</td>\n",
       "      <td>0.000000</td>\n",
       "      <td>0.000000</td>\n",
       "      <td>0.000000</td>\n",
       "      <td>0.000000</td>\n",
       "      <td>...</td>\n",
       "      <td>0.000000</td>\n",
       "      <td>0.000000</td>\n",
       "      <td>0.000000</td>\n",
       "      <td>0.000000</td>\n",
       "      <td>0.000000</td>\n",
       "      <td>0.000000</td>\n",
       "      <td>0.000000</td>\n",
       "      <td>0.000000</td>\n",
       "      <td>0.000000</td>\n",
       "      <td>1.000000</td>\n",
       "    </tr>\n",
       "    <tr>\n",
       "      <th>50%</th>\n",
       "      <td>39.000000</td>\n",
       "      <td>60000.000000</td>\n",
       "      <td>448.000000</td>\n",
       "      <td>16.000000</td>\n",
       "      <td>180.000000</td>\n",
       "      <td>2.000000</td>\n",
       "      <td>0.000000</td>\n",
       "      <td>0.000000</td>\n",
       "      <td>0.000000</td>\n",
       "      <td>0.000000</td>\n",
       "      <td>...</td>\n",
       "      <td>0.000000</td>\n",
       "      <td>0.000000</td>\n",
       "      <td>0.000000</td>\n",
       "      <td>0.000000</td>\n",
       "      <td>0.000000</td>\n",
       "      <td>0.000000</td>\n",
       "      <td>0.000000</td>\n",
       "      <td>0.000000</td>\n",
       "      <td>0.000000</td>\n",
       "      <td>1.000000</td>\n",
       "    </tr>\n",
       "    <tr>\n",
       "      <th>75%</th>\n",
       "      <td>48.000000</td>\n",
       "      <td>70000.000000</td>\n",
       "      <td>1428.000000</td>\n",
       "      <td>21.000000</td>\n",
       "      <td>319.000000</td>\n",
       "      <td>3.000000</td>\n",
       "      <td>0.000000</td>\n",
       "      <td>0.000000</td>\n",
       "      <td>0.000000</td>\n",
       "      <td>0.000000</td>\n",
       "      <td>...</td>\n",
       "      <td>0.000000</td>\n",
       "      <td>0.000000</td>\n",
       "      <td>0.000000</td>\n",
       "      <td>1.000000</td>\n",
       "      <td>0.000000</td>\n",
       "      <td>0.000000</td>\n",
       "      <td>0.000000</td>\n",
       "      <td>0.000000</td>\n",
       "      <td>0.000000</td>\n",
       "      <td>1.000000</td>\n",
       "    </tr>\n",
       "    <tr>\n",
       "      <th>max</th>\n",
       "      <td>95.000000</td>\n",
       "      <td>120000.000000</td>\n",
       "      <td>102127.000000</td>\n",
       "      <td>31.000000</td>\n",
       "      <td>4918.000000</td>\n",
       "      <td>63.000000</td>\n",
       "      <td>1.000000</td>\n",
       "      <td>1.000000</td>\n",
       "      <td>1.000000</td>\n",
       "      <td>1.000000</td>\n",
       "      <td>...</td>\n",
       "      <td>1.000000</td>\n",
       "      <td>1.000000</td>\n",
       "      <td>1.000000</td>\n",
       "      <td>1.000000</td>\n",
       "      <td>1.000000</td>\n",
       "      <td>1.000000</td>\n",
       "      <td>1.000000</td>\n",
       "      <td>1.000000</td>\n",
       "      <td>1.000000</td>\n",
       "      <td>1.000000</td>\n",
       "    </tr>\n",
       "  </tbody>\n",
       "</table>\n",
       "<p>8 rows × 42 columns</p>\n",
       "</div>"
      ],
      "text/plain": [
       "                age         salary        balance           day      duration  \\\n",
       "count  45211.000000   45211.000000   45211.000000  45211.000000  45211.000000   \n",
       "mean      40.936210   57006.171065    1362.272058     15.806419    258.163080   \n",
       "std       10.618762   32085.718415    3044.765829      8.322476    257.527812   \n",
       "min       18.000000       0.000000   -8019.000000      1.000000      0.000000   \n",
       "25%       33.000000   20000.000000      72.000000      8.000000    103.000000   \n",
       "50%       39.000000   60000.000000     448.000000     16.000000    180.000000   \n",
       "75%       48.000000   70000.000000    1428.000000     21.000000    319.000000   \n",
       "max       95.000000  120000.000000  102127.000000     31.000000   4918.000000   \n",
       "\n",
       "           campaign  job_blue-collar  job_entrepreneur  job_housemaid  \\\n",
       "count  45211.000000     45211.000000      45211.000000   45211.000000   \n",
       "mean       2.763841         0.215257          0.032890       0.027427   \n",
       "std        3.098021         0.411005          0.178351       0.163326   \n",
       "min        1.000000         0.000000          0.000000       0.000000   \n",
       "25%        1.000000         0.000000          0.000000       0.000000   \n",
       "50%        2.000000         0.000000          0.000000       0.000000   \n",
       "75%        3.000000         0.000000          0.000000       0.000000   \n",
       "max       63.000000         1.000000          1.000000       1.000000   \n",
       "\n",
       "       job_management  ...     month_jul     month_jun     month_mar  \\\n",
       "count    45211.000000  ...  45211.000000  45211.000000  45211.000000   \n",
       "mean         0.209197  ...      0.152507      0.118135      0.010551   \n",
       "std          0.406740  ...      0.359516      0.322771      0.102174   \n",
       "min          0.000000  ...      0.000000      0.000000      0.000000   \n",
       "25%          0.000000  ...      0.000000      0.000000      0.000000   \n",
       "50%          0.000000  ...      0.000000      0.000000      0.000000   \n",
       "75%          0.000000  ...      0.000000      0.000000      0.000000   \n",
       "max          1.000000  ...      1.000000      1.000000      1.000000   \n",
       "\n",
       "          month_may     month_nov     month_oct     month_sep  poutcome_other  \\\n",
       "count  45211.000000  45211.000000  45211.000000  45211.000000    45211.000000   \n",
       "mean       0.304483      0.087810      0.016323      0.012807        0.040698   \n",
       "std        0.460193      0.283022      0.126718      0.112441        0.197592   \n",
       "min        0.000000      0.000000      0.000000      0.000000        0.000000   \n",
       "25%        0.000000      0.000000      0.000000      0.000000        0.000000   \n",
       "50%        0.000000      0.000000      0.000000      0.000000        0.000000   \n",
       "75%        1.000000      0.000000      0.000000      0.000000        0.000000   \n",
       "max        1.000000      1.000000      1.000000      1.000000        1.000000   \n",
       "\n",
       "       poutcome_success  poutcome_unknown  \n",
       "count      45211.000000      45211.000000  \n",
       "mean           0.033421          0.817478  \n",
       "std            0.179735          0.386278  \n",
       "min            0.000000          0.000000  \n",
       "25%            0.000000          1.000000  \n",
       "50%            0.000000          1.000000  \n",
       "75%            0.000000          1.000000  \n",
       "max            1.000000          1.000000  \n",
       "\n",
       "[8 rows x 42 columns]"
      ]
     },
     "execution_count": 140,
     "metadata": {},
     "output_type": "execute_result"
    }
   ],
   "source": [
    "X.describe()"
   ]
  },
  {
   "cell_type": "code",
   "execution_count": 141,
   "metadata": {},
   "outputs": [],
   "source": [
    "from sklearn.preprocessing import MinMaxScaler"
   ]
  },
  {
   "cell_type": "code",
   "execution_count": 142,
   "metadata": {},
   "outputs": [],
   "source": [
    "scale = MinMaxScaler()"
   ]
  },
  {
   "cell_type": "code",
   "execution_count": 143,
   "metadata": {},
   "outputs": [],
   "source": [
    "X_train = scale.fit_transform(X_train)\n",
    "X_test = scale.transform(X_test)"
   ]
  },
  {
   "cell_type": "markdown",
   "metadata": {},
   "source": [
    "# Predictive model 1: Logistic Regression"
   ]
  },
  {
   "cell_type": "markdown",
   "metadata": {},
   "source": [
    "#### Feature Selection : RFE , VIF AND P-VALUES"
   ]
  },
  {
   "cell_type": "code",
   "execution_count": 144,
   "metadata": {},
   "outputs": [],
   "source": [
    "from sklearn.feature_selection import RFE\n",
    "from sklearn.linear_model import LogisticRegression"
   ]
  },
  {
   "cell_type": "code",
   "execution_count": 145,
   "metadata": {},
   "outputs": [],
   "source": [
    "model = LogisticRegression()"
   ]
  },
  {
   "cell_type": "code",
   "execution_count": 146,
   "metadata": {},
   "outputs": [],
   "source": [
    "rfe = RFE(model , n_features_to_select= 20)"
   ]
  },
  {
   "cell_type": "code",
   "execution_count": 147,
   "metadata": {},
   "outputs": [
    {
     "name": "stderr",
     "output_type": "stream",
     "text": [
      "C:\\Users\\admin\\anaconda3\\lib\\site-packages\\sklearn\\linear_model\\_logistic.py:762: ConvergenceWarning: lbfgs failed to converge (status=1):\n",
      "STOP: TOTAL NO. of ITERATIONS REACHED LIMIT.\n",
      "\n",
      "Increase the number of iterations (max_iter) or scale the data as shown in:\n",
      "    https://scikit-learn.org/stable/modules/preprocessing.html\n",
      "Please also refer to the documentation for alternative solver options:\n",
      "    https://scikit-learn.org/stable/modules/linear_model.html#logistic-regression\n",
      "  n_iter_i = _check_optimize_result(\n",
      "C:\\Users\\admin\\anaconda3\\lib\\site-packages\\sklearn\\linear_model\\_logistic.py:762: ConvergenceWarning: lbfgs failed to converge (status=1):\n",
      "STOP: TOTAL NO. of ITERATIONS REACHED LIMIT.\n",
      "\n",
      "Increase the number of iterations (max_iter) or scale the data as shown in:\n",
      "    https://scikit-learn.org/stable/modules/preprocessing.html\n",
      "Please also refer to the documentation for alternative solver options:\n",
      "    https://scikit-learn.org/stable/modules/linear_model.html#logistic-regression\n",
      "  n_iter_i = _check_optimize_result(\n"
     ]
    },
    {
     "data": {
      "text/plain": [
       "RFE(estimator=LogisticRegression(), n_features_to_select=20)"
      ]
     },
     "execution_count": 147,
     "metadata": {},
     "output_type": "execute_result"
    }
   ],
   "source": [
    "rfe.fit(X_train,y_train)"
   ]
  },
  {
   "cell_type": "code",
   "execution_count": 148,
   "metadata": {},
   "outputs": [
    {
     "data": {
      "text/plain": [
       "array([False, False,  True, False,  True,  True, False, False,  True,\n",
       "       False, False, False, False,  True, False, False, False, False,\n",
       "       False, False, False, False, False, False,  True,  True, False,\n",
       "        True,  True,  True,  True,  True,  True, False,  True,  True,\n",
       "        True,  True,  True,  True,  True, False])"
      ]
     },
     "execution_count": 148,
     "metadata": {},
     "output_type": "execute_result"
    }
   ],
   "source": [
    "rfe.support_"
   ]
  },
  {
   "cell_type": "code",
   "execution_count": 149,
   "metadata": {},
   "outputs": [
    {
     "data": {
      "text/plain": [
       "Index(['balance', 'duration', 'campaign', 'job_housemaid', 'job_student',\n",
       "       'housing_yes', 'loan_yes', 'contact_unknown', 'month_aug', 'month_dec',\n",
       "       'month_feb', 'month_jan', 'month_jul', 'month_mar', 'month_may',\n",
       "       'month_nov', 'month_oct', 'month_sep', 'poutcome_other',\n",
       "       'poutcome_success'],\n",
       "      dtype='object')"
      ]
     },
     "execution_count": 149,
     "metadata": {},
     "output_type": "execute_result"
    }
   ],
   "source": [
    "filterCol = X.columns[rfe.support_]\n",
    "filterCol"
   ]
  },
  {
   "cell_type": "code",
   "execution_count": 150,
   "metadata": {},
   "outputs": [
    {
     "data": {
      "text/plain": [
       "array([[0.22077922, 0.58333333, 0.07679807, ..., 0.        , 0.        ,\n",
       "        0.        ],\n",
       "       [0.18181818, 0.5       , 0.07323008, ..., 0.        , 0.        ,\n",
       "        1.        ],\n",
       "       [0.50649351, 0.5       , 0.07279429, ..., 0.        , 0.        ,\n",
       "        1.        ],\n",
       "       ...,\n",
       "       [0.15584416, 0.83333333, 0.10125651, ..., 0.        , 0.        ,\n",
       "        1.        ],\n",
       "       [0.31168831, 1.        , 0.09322172, ..., 0.        , 0.        ,\n",
       "        0.        ],\n",
       "       [0.25974026, 0.83333333, 0.07972146, ..., 0.        , 0.        ,\n",
       "        1.        ]])"
      ]
     },
     "execution_count": 150,
     "metadata": {},
     "output_type": "execute_result"
    }
   ],
   "source": [
    "X_train"
   ]
  },
  {
   "cell_type": "code",
   "execution_count": 151,
   "metadata": {},
   "outputs": [],
   "source": [
    "X_train = pd.DataFrame(X_train,  columns = X.columns)\n",
    "X_test = pd.DataFrame(X_test, columns = X.columns)"
   ]
  },
  {
   "cell_type": "code",
   "execution_count": 152,
   "metadata": {},
   "outputs": [],
   "source": [
    "X_train = X_train[filterCol]\n",
    "X_test = X_test[filterCol]"
   ]
  },
  {
   "cell_type": "code",
   "execution_count": 153,
   "metadata": {},
   "outputs": [],
   "source": [
    "y_train = y_train.reset_index(drop = True)"
   ]
  },
  {
   "cell_type": "code",
   "execution_count": 154,
   "metadata": {},
   "outputs": [],
   "source": [
    "y_test = y_test.reset_index(drop = True)"
   ]
  },
  {
   "cell_type": "code",
   "execution_count": 155,
   "metadata": {},
   "outputs": [],
   "source": [
    "import statsmodels.api as sm"
   ]
  },
  {
   "cell_type": "code",
   "execution_count": 156,
   "metadata": {},
   "outputs": [],
   "source": [
    "logsm = sm.GLM(y_train, X_train, family = sm.families.Binomial())"
   ]
  },
  {
   "cell_type": "code",
   "execution_count": 157,
   "metadata": {},
   "outputs": [],
   "source": [
    "result = logsm.fit()"
   ]
  },
  {
   "cell_type": "code",
   "execution_count": 158,
   "metadata": {},
   "outputs": [
    {
     "data": {
      "text/html": [
       "<table class=\"simpletable\">\n",
       "<caption>Generalized Linear Model Regression Results</caption>\n",
       "<tr>\n",
       "  <th>Dep. Variable:</th>       <td>response</td>     <th>  No. Observations:  </th>  <td> 31647</td> \n",
       "</tr>\n",
       "<tr>\n",
       "  <th>Model:</th>                  <td>GLM</td>       <th>  Df Residuals:      </th>  <td> 31627</td> \n",
       "</tr>\n",
       "<tr>\n",
       "  <th>Model Family:</th>        <td>Binomial</td>     <th>  Df Model:          </th>  <td>    19</td> \n",
       "</tr>\n",
       "<tr>\n",
       "  <th>Link Function:</th>         <td>logit</td>      <th>  Scale:             </th> <td>  1.0000</td>\n",
       "</tr>\n",
       "<tr>\n",
       "  <th>Method:</th>                <td>IRLS</td>       <th>  Log-Likelihood:    </th> <td> -7959.2</td>\n",
       "</tr>\n",
       "<tr>\n",
       "  <th>Date:</th>            <td>Mon, 05 Jul 2021</td> <th>  Deviance:          </th> <td>  15918.</td>\n",
       "</tr>\n",
       "<tr>\n",
       "  <th>Time:</th>                <td>14:48:30</td>     <th>  Pearson chi2:      </th> <td>1.51e+06</td>\n",
       "</tr>\n",
       "<tr>\n",
       "  <th>No. Iterations:</th>          <td>7</td>        <th>                     </th>     <td> </td>   \n",
       "</tr>\n",
       "<tr>\n",
       "  <th>Covariance Type:</th>     <td>nonrobust</td>    <th>                     </th>     <td> </td>   \n",
       "</tr>\n",
       "</table>\n",
       "<table class=\"simpletable\">\n",
       "<tr>\n",
       "          <td></td>            <th>coef</th>     <th>std err</th>      <th>z</th>      <th>P>|z|</th>  <th>[0.025</th>    <th>0.975]</th>  \n",
       "</tr>\n",
       "<tr>\n",
       "  <th>balance</th>          <td>  -15.8077</td> <td>    0.593</td> <td>  -26.644</td> <td> 0.000</td> <td>  -16.971</td> <td>  -14.645</td>\n",
       "</tr>\n",
       "<tr>\n",
       "  <th>duration</th>         <td>   18.7891</td> <td>    0.363</td> <td>   51.733</td> <td> 0.000</td> <td>   18.077</td> <td>   19.501</td>\n",
       "</tr>\n",
       "<tr>\n",
       "  <th>campaign</th>         <td>   -8.2516</td> <td>    0.784</td> <td>  -10.518</td> <td> 0.000</td> <td>   -9.789</td> <td>   -6.714</td>\n",
       "</tr>\n",
       "<tr>\n",
       "  <th>job_housemaid</th>    <td>   -0.5700</td> <td>    0.144</td> <td>   -3.945</td> <td> 0.000</td> <td>   -0.853</td> <td>   -0.287</td>\n",
       "</tr>\n",
       "<tr>\n",
       "  <th>job_student</th>      <td>    0.3510</td> <td>    0.110</td> <td>    3.192</td> <td> 0.001</td> <td>    0.135</td> <td>    0.567</td>\n",
       "</tr>\n",
       "<tr>\n",
       "  <th>housing_yes</th>      <td>   -1.0382</td> <td>    0.047</td> <td>  -22.106</td> <td> 0.000</td> <td>   -1.130</td> <td>   -0.946</td>\n",
       "</tr>\n",
       "<tr>\n",
       "  <th>loan_yes</th>         <td>   -0.5503</td> <td>    0.069</td> <td>   -8.020</td> <td> 0.000</td> <td>   -0.685</td> <td>   -0.416</td>\n",
       "</tr>\n",
       "<tr>\n",
       "  <th>contact_unknown</th>  <td>   -1.9618</td> <td>    0.071</td> <td>  -27.593</td> <td> 0.000</td> <td>   -2.101</td> <td>   -1.822</td>\n",
       "</tr>\n",
       "<tr>\n",
       "  <th>month_aug</th>        <td>   -1.6366</td> <td>    0.072</td> <td>  -22.598</td> <td> 0.000</td> <td>   -1.778</td> <td>   -1.495</td>\n",
       "</tr>\n",
       "<tr>\n",
       "  <th>month_dec</th>        <td>    0.1037</td> <td>    0.212</td> <td>    0.490</td> <td> 0.624</td> <td>   -0.311</td> <td>    0.518</td>\n",
       "</tr>\n",
       "<tr>\n",
       "  <th>month_feb</th>        <td>   -1.0877</td> <td>    0.084</td> <td>  -12.944</td> <td> 0.000</td> <td>   -1.252</td> <td>   -0.923</td>\n",
       "</tr>\n",
       "<tr>\n",
       "  <th>month_jan</th>        <td>   -2.1001</td> <td>    0.132</td> <td>  -15.868</td> <td> 0.000</td> <td>   -2.359</td> <td>   -1.841</td>\n",
       "</tr>\n",
       "<tr>\n",
       "  <th>month_jul</th>        <td>   -1.6668</td> <td>    0.073</td> <td>  -22.792</td> <td> 0.000</td> <td>   -1.810</td> <td>   -1.523</td>\n",
       "</tr>\n",
       "<tr>\n",
       "  <th>month_mar</th>        <td>    0.8586</td> <td>    0.133</td> <td>    6.454</td> <td> 0.000</td> <td>    0.598</td> <td>    1.119</td>\n",
       "</tr>\n",
       "<tr>\n",
       "  <th>month_may</th>        <td>   -1.0732</td> <td>    0.064</td> <td>  -16.893</td> <td> 0.000</td> <td>   -1.198</td> <td>   -0.949</td>\n",
       "</tr>\n",
       "<tr>\n",
       "  <th>month_nov</th>        <td>   -1.5877</td> <td>    0.086</td> <td>  -18.382</td> <td> 0.000</td> <td>   -1.757</td> <td>   -1.418</td>\n",
       "</tr>\n",
       "<tr>\n",
       "  <th>month_oct</th>        <td>    0.1900</td> <td>    0.119</td> <td>    1.597</td> <td> 0.110</td> <td>   -0.043</td> <td>    0.423</td>\n",
       "</tr>\n",
       "<tr>\n",
       "  <th>month_sep</th>        <td>    0.0004</td> <td>    0.130</td> <td>    0.003</td> <td> 0.998</td> <td>   -0.254</td> <td>    0.255</td>\n",
       "</tr>\n",
       "<tr>\n",
       "  <th>poutcome_other</th>   <td>    0.1653</td> <td>    0.092</td> <td>    1.802</td> <td> 0.072</td> <td>   -0.014</td> <td>    0.345</td>\n",
       "</tr>\n",
       "<tr>\n",
       "  <th>poutcome_success</th> <td>    2.2465</td> <td>    0.079</td> <td>   28.536</td> <td> 0.000</td> <td>    2.092</td> <td>    2.401</td>\n",
       "</tr>\n",
       "</table>"
      ],
      "text/plain": [
       "<class 'statsmodels.iolib.summary.Summary'>\n",
       "\"\"\"\n",
       "                 Generalized Linear Model Regression Results                  \n",
       "==============================================================================\n",
       "Dep. Variable:               response   No. Observations:                31647\n",
       "Model:                            GLM   Df Residuals:                    31627\n",
       "Model Family:                Binomial   Df Model:                           19\n",
       "Link Function:                  logit   Scale:                          1.0000\n",
       "Method:                          IRLS   Log-Likelihood:                -7959.2\n",
       "Date:                Mon, 05 Jul 2021   Deviance:                       15918.\n",
       "Time:                        14:48:30   Pearson chi2:                 1.51e+06\n",
       "No. Iterations:                     7                                         \n",
       "Covariance Type:            nonrobust                                         \n",
       "====================================================================================\n",
       "                       coef    std err          z      P>|z|      [0.025      0.975]\n",
       "------------------------------------------------------------------------------------\n",
       "balance            -15.8077      0.593    -26.644      0.000     -16.971     -14.645\n",
       "duration            18.7891      0.363     51.733      0.000      18.077      19.501\n",
       "campaign            -8.2516      0.784    -10.518      0.000      -9.789      -6.714\n",
       "job_housemaid       -0.5700      0.144     -3.945      0.000      -0.853      -0.287\n",
       "job_student          0.3510      0.110      3.192      0.001       0.135       0.567\n",
       "housing_yes         -1.0382      0.047    -22.106      0.000      -1.130      -0.946\n",
       "loan_yes            -0.5503      0.069     -8.020      0.000      -0.685      -0.416\n",
       "contact_unknown     -1.9618      0.071    -27.593      0.000      -2.101      -1.822\n",
       "month_aug           -1.6366      0.072    -22.598      0.000      -1.778      -1.495\n",
       "month_dec            0.1037      0.212      0.490      0.624      -0.311       0.518\n",
       "month_feb           -1.0877      0.084    -12.944      0.000      -1.252      -0.923\n",
       "month_jan           -2.1001      0.132    -15.868      0.000      -2.359      -1.841\n",
       "month_jul           -1.6668      0.073    -22.792      0.000      -1.810      -1.523\n",
       "month_mar            0.8586      0.133      6.454      0.000       0.598       1.119\n",
       "month_may           -1.0732      0.064    -16.893      0.000      -1.198      -0.949\n",
       "month_nov           -1.5877      0.086    -18.382      0.000      -1.757      -1.418\n",
       "month_oct            0.1900      0.119      1.597      0.110      -0.043       0.423\n",
       "month_sep            0.0004      0.130      0.003      0.998      -0.254       0.255\n",
       "poutcome_other       0.1653      0.092      1.802      0.072      -0.014       0.345\n",
       "poutcome_success     2.2465      0.079     28.536      0.000       2.092       2.401\n",
       "====================================================================================\n",
       "\"\"\""
      ]
     },
     "execution_count": 158,
     "metadata": {},
     "output_type": "execute_result"
    }
   ],
   "source": [
    "result.summary()"
   ]
  },
  {
   "cell_type": "code",
   "execution_count": 159,
   "metadata": {},
   "outputs": [],
   "source": [
    "from statsmodels.stats.outliers_influence import variance_inflation_factor"
   ]
  },
  {
   "cell_type": "code",
   "execution_count": 160,
   "metadata": {},
   "outputs": [
    {
     "data": {
      "text/html": [
       "<div>\n",
       "<style scoped>\n",
       "    .dataframe tbody tr th:only-of-type {\n",
       "        vertical-align: middle;\n",
       "    }\n",
       "\n",
       "    .dataframe tbody tr th {\n",
       "        vertical-align: top;\n",
       "    }\n",
       "\n",
       "    .dataframe thead th {\n",
       "        text-align: right;\n",
       "    }\n",
       "</style>\n",
       "<table border=\"1\" class=\"dataframe\">\n",
       "  <thead>\n",
       "    <tr style=\"text-align: right;\">\n",
       "      <th></th>\n",
       "      <th>Features</th>\n",
       "      <th>VIF</th>\n",
       "    </tr>\n",
       "  </thead>\n",
       "  <tbody>\n",
       "    <tr>\n",
       "      <th>0</th>\n",
       "      <td>balance</td>\n",
       "      <td>5.494893</td>\n",
       "    </tr>\n",
       "    <tr>\n",
       "      <th>5</th>\n",
       "      <td>housing_yes</td>\n",
       "      <td>2.758472</td>\n",
       "    </tr>\n",
       "    <tr>\n",
       "      <th>14</th>\n",
       "      <td>month_may</td>\n",
       "      <td>2.578139</td>\n",
       "    </tr>\n",
       "    <tr>\n",
       "      <th>7</th>\n",
       "      <td>contact_unknown</td>\n",
       "      <td>2.027870</td>\n",
       "    </tr>\n",
       "    <tr>\n",
       "      <th>1</th>\n",
       "      <td>duration</td>\n",
       "      <td>1.921488</td>\n",
       "    </tr>\n",
       "    <tr>\n",
       "      <th>12</th>\n",
       "      <td>month_jul</td>\n",
       "      <td>1.741996</td>\n",
       "    </tr>\n",
       "    <tr>\n",
       "      <th>8</th>\n",
       "      <td>month_aug</td>\n",
       "      <td>1.677486</td>\n",
       "    </tr>\n",
       "    <tr>\n",
       "      <th>15</th>\n",
       "      <td>month_nov</td>\n",
       "      <td>1.498233</td>\n",
       "    </tr>\n",
       "    <tr>\n",
       "      <th>2</th>\n",
       "      <td>campaign</td>\n",
       "      <td>1.396751</td>\n",
       "    </tr>\n",
       "    <tr>\n",
       "      <th>10</th>\n",
       "      <td>month_feb</td>\n",
       "      <td>1.262661</td>\n",
       "    </tr>\n",
       "    <tr>\n",
       "      <th>6</th>\n",
       "      <td>loan_yes</td>\n",
       "      <td>1.223789</td>\n",
       "    </tr>\n",
       "    <tr>\n",
       "      <th>11</th>\n",
       "      <td>month_jan</td>\n",
       "      <td>1.127196</td>\n",
       "    </tr>\n",
       "    <tr>\n",
       "      <th>19</th>\n",
       "      <td>poutcome_success</td>\n",
       "      <td>1.100761</td>\n",
       "    </tr>\n",
       "    <tr>\n",
       "      <th>16</th>\n",
       "      <td>month_oct</td>\n",
       "      <td>1.090628</td>\n",
       "    </tr>\n",
       "    <tr>\n",
       "      <th>18</th>\n",
       "      <td>poutcome_other</td>\n",
       "      <td>1.088609</td>\n",
       "    </tr>\n",
       "    <tr>\n",
       "      <th>17</th>\n",
       "      <td>month_sep</td>\n",
       "      <td>1.080169</td>\n",
       "    </tr>\n",
       "    <tr>\n",
       "      <th>13</th>\n",
       "      <td>month_mar</td>\n",
       "      <td>1.056562</td>\n",
       "    </tr>\n",
       "    <tr>\n",
       "      <th>4</th>\n",
       "      <td>job_student</td>\n",
       "      <td>1.036848</td>\n",
       "    </tr>\n",
       "    <tr>\n",
       "      <th>3</th>\n",
       "      <td>job_housemaid</td>\n",
       "      <td>1.035146</td>\n",
       "    </tr>\n",
       "    <tr>\n",
       "      <th>9</th>\n",
       "      <td>month_dec</td>\n",
       "      <td>1.032143</td>\n",
       "    </tr>\n",
       "  </tbody>\n",
       "</table>\n",
       "</div>"
      ],
      "text/plain": [
       "            Features       VIF\n",
       "0            balance  5.494893\n",
       "5        housing_yes  2.758472\n",
       "14         month_may  2.578139\n",
       "7    contact_unknown  2.027870\n",
       "1           duration  1.921488\n",
       "12         month_jul  1.741996\n",
       "8          month_aug  1.677486\n",
       "15         month_nov  1.498233\n",
       "2           campaign  1.396751\n",
       "10         month_feb  1.262661\n",
       "6           loan_yes  1.223789\n",
       "11         month_jan  1.127196\n",
       "19  poutcome_success  1.100761\n",
       "16         month_oct  1.090628\n",
       "18    poutcome_other  1.088609\n",
       "17         month_sep  1.080169\n",
       "13         month_mar  1.056562\n",
       "4        job_student  1.036848\n",
       "3      job_housemaid  1.035146\n",
       "9          month_dec  1.032143"
      ]
     },
     "execution_count": 160,
     "metadata": {},
     "output_type": "execute_result"
    }
   ],
   "source": [
    "VIF = []\n",
    "for i in list(range(0, X_train.shape[1])):\n",
    "    VIF.append(variance_inflation_factor(X_train.values,i ))\n",
    "\n",
    "vif = pd.DataFrame({'Features': X_train.columns, 'VIF': VIF}).sort_values(by = 'VIF', ascending= False)\n",
    "vif"
   ]
  },
  {
   "cell_type": "code",
   "execution_count": 161,
   "metadata": {},
   "outputs": [],
   "source": [
    "X_train = X_train.drop('month_sep', axis = 1)\n",
    "X_test = X_test.drop('month_sep', axis = 1)"
   ]
  },
  {
   "cell_type": "code",
   "execution_count": 162,
   "metadata": {},
   "outputs": [
    {
     "data": {
      "text/html": [
       "<table class=\"simpletable\">\n",
       "<caption>Generalized Linear Model Regression Results</caption>\n",
       "<tr>\n",
       "  <th>Dep. Variable:</th>       <td>response</td>     <th>  No. Observations:  </th>  <td> 31647</td> \n",
       "</tr>\n",
       "<tr>\n",
       "  <th>Model:</th>                  <td>GLM</td>       <th>  Df Residuals:      </th>  <td> 31628</td> \n",
       "</tr>\n",
       "<tr>\n",
       "  <th>Model Family:</th>        <td>Binomial</td>     <th>  Df Model:          </th>  <td>    18</td> \n",
       "</tr>\n",
       "<tr>\n",
       "  <th>Link Function:</th>         <td>logit</td>      <th>  Scale:             </th> <td>  1.0000</td>\n",
       "</tr>\n",
       "<tr>\n",
       "  <th>Method:</th>                <td>IRLS</td>       <th>  Log-Likelihood:    </th> <td> -7959.2</td>\n",
       "</tr>\n",
       "<tr>\n",
       "  <th>Date:</th>            <td>Mon, 05 Jul 2021</td> <th>  Deviance:          </th> <td>  15918.</td>\n",
       "</tr>\n",
       "<tr>\n",
       "  <th>Time:</th>                <td>14:48:32</td>     <th>  Pearson chi2:      </th> <td>1.51e+06</td>\n",
       "</tr>\n",
       "<tr>\n",
       "  <th>No. Iterations:</th>          <td>7</td>        <th>                     </th>     <td> </td>   \n",
       "</tr>\n",
       "<tr>\n",
       "  <th>Covariance Type:</th>     <td>nonrobust</td>    <th>                     </th>     <td> </td>   \n",
       "</tr>\n",
       "</table>\n",
       "<table class=\"simpletable\">\n",
       "<tr>\n",
       "          <td></td>            <th>coef</th>     <th>std err</th>      <th>z</th>      <th>P>|z|</th>  <th>[0.025</th>    <th>0.975]</th>  \n",
       "</tr>\n",
       "<tr>\n",
       "  <th>balance</th>          <td>  -15.8072</td> <td>    0.570</td> <td>  -27.713</td> <td> 0.000</td> <td>  -16.925</td> <td>  -14.689</td>\n",
       "</tr>\n",
       "<tr>\n",
       "  <th>duration</th>         <td>   18.7891</td> <td>    0.363</td> <td>   51.740</td> <td> 0.000</td> <td>   18.077</td> <td>   19.501</td>\n",
       "</tr>\n",
       "<tr>\n",
       "  <th>campaign</th>         <td>   -8.2516</td> <td>    0.784</td> <td>  -10.518</td> <td> 0.000</td> <td>   -9.789</td> <td>   -6.714</td>\n",
       "</tr>\n",
       "<tr>\n",
       "  <th>job_housemaid</th>    <td>   -0.5700</td> <td>    0.144</td> <td>   -3.945</td> <td> 0.000</td> <td>   -0.853</td> <td>   -0.287</td>\n",
       "</tr>\n",
       "<tr>\n",
       "  <th>job_student</th>      <td>    0.3510</td> <td>    0.110</td> <td>    3.196</td> <td> 0.001</td> <td>    0.136</td> <td>    0.566</td>\n",
       "</tr>\n",
       "<tr>\n",
       "  <th>housing_yes</th>      <td>   -1.0383</td> <td>    0.047</td> <td>  -22.166</td> <td> 0.000</td> <td>   -1.130</td> <td>   -0.946</td>\n",
       "</tr>\n",
       "<tr>\n",
       "  <th>loan_yes</th>         <td>   -0.5503</td> <td>    0.069</td> <td>   -8.020</td> <td> 0.000</td> <td>   -0.685</td> <td>   -0.416</td>\n",
       "</tr>\n",
       "<tr>\n",
       "  <th>contact_unknown</th>  <td>   -1.9619</td> <td>    0.071</td> <td>  -27.747</td> <td> 0.000</td> <td>   -2.100</td> <td>   -1.823</td>\n",
       "</tr>\n",
       "<tr>\n",
       "  <th>month_aug</th>        <td>   -1.6366</td> <td>    0.071</td> <td>  -23.057</td> <td> 0.000</td> <td>   -1.776</td> <td>   -1.497</td>\n",
       "</tr>\n",
       "<tr>\n",
       "  <th>month_dec</th>        <td>    0.1037</td> <td>    0.211</td> <td>    0.492</td> <td> 0.623</td> <td>   -0.310</td> <td>    0.517</td>\n",
       "</tr>\n",
       "<tr>\n",
       "  <th>month_feb</th>        <td>   -1.0878</td> <td>    0.083</td> <td>  -13.132</td> <td> 0.000</td> <td>   -1.250</td> <td>   -0.925</td>\n",
       "</tr>\n",
       "<tr>\n",
       "  <th>month_jan</th>        <td>   -2.1001</td> <td>    0.132</td> <td>  -15.961</td> <td> 0.000</td> <td>   -2.358</td> <td>   -1.842</td>\n",
       "</tr>\n",
       "<tr>\n",
       "  <th>month_jul</th>        <td>   -1.6669</td> <td>    0.072</td> <td>  -23.153</td> <td> 0.000</td> <td>   -1.808</td> <td>   -1.526</td>\n",
       "</tr>\n",
       "<tr>\n",
       "  <th>month_mar</th>        <td>    0.8586</td> <td>    0.132</td> <td>    6.498</td> <td> 0.000</td> <td>    0.600</td> <td>    1.118</td>\n",
       "</tr>\n",
       "<tr>\n",
       "  <th>month_may</th>        <td>   -1.0732</td> <td>    0.063</td> <td>  -17.121</td> <td> 0.000</td> <td>   -1.196</td> <td>   -0.950</td>\n",
       "</tr>\n",
       "<tr>\n",
       "  <th>month_nov</th>        <td>   -1.5878</td> <td>    0.085</td> <td>  -18.654</td> <td> 0.000</td> <td>   -1.755</td> <td>   -1.421</td>\n",
       "</tr>\n",
       "<tr>\n",
       "  <th>month_oct</th>        <td>    0.1900</td> <td>    0.118</td> <td>    1.610</td> <td> 0.107</td> <td>   -0.041</td> <td>    0.421</td>\n",
       "</tr>\n",
       "<tr>\n",
       "  <th>poutcome_other</th>   <td>    0.1654</td> <td>    0.092</td> <td>    1.804</td> <td> 0.071</td> <td>   -0.014</td> <td>    0.345</td>\n",
       "</tr>\n",
       "<tr>\n",
       "  <th>poutcome_success</th> <td>    2.2465</td> <td>    0.078</td> <td>   28.634</td> <td> 0.000</td> <td>    2.093</td> <td>    2.400</td>\n",
       "</tr>\n",
       "</table>"
      ],
      "text/plain": [
       "<class 'statsmodels.iolib.summary.Summary'>\n",
       "\"\"\"\n",
       "                 Generalized Linear Model Regression Results                  \n",
       "==============================================================================\n",
       "Dep. Variable:               response   No. Observations:                31647\n",
       "Model:                            GLM   Df Residuals:                    31628\n",
       "Model Family:                Binomial   Df Model:                           18\n",
       "Link Function:                  logit   Scale:                          1.0000\n",
       "Method:                          IRLS   Log-Likelihood:                -7959.2\n",
       "Date:                Mon, 05 Jul 2021   Deviance:                       15918.\n",
       "Time:                        14:48:32   Pearson chi2:                 1.51e+06\n",
       "No. Iterations:                     7                                         \n",
       "Covariance Type:            nonrobust                                         \n",
       "====================================================================================\n",
       "                       coef    std err          z      P>|z|      [0.025      0.975]\n",
       "------------------------------------------------------------------------------------\n",
       "balance            -15.8072      0.570    -27.713      0.000     -16.925     -14.689\n",
       "duration            18.7891      0.363     51.740      0.000      18.077      19.501\n",
       "campaign            -8.2516      0.784    -10.518      0.000      -9.789      -6.714\n",
       "job_housemaid       -0.5700      0.144     -3.945      0.000      -0.853      -0.287\n",
       "job_student          0.3510      0.110      3.196      0.001       0.136       0.566\n",
       "housing_yes         -1.0383      0.047    -22.166      0.000      -1.130      -0.946\n",
       "loan_yes            -0.5503      0.069     -8.020      0.000      -0.685      -0.416\n",
       "contact_unknown     -1.9619      0.071    -27.747      0.000      -2.100      -1.823\n",
       "month_aug           -1.6366      0.071    -23.057      0.000      -1.776      -1.497\n",
       "month_dec            0.1037      0.211      0.492      0.623      -0.310       0.517\n",
       "month_feb           -1.0878      0.083    -13.132      0.000      -1.250      -0.925\n",
       "month_jan           -2.1001      0.132    -15.961      0.000      -2.358      -1.842\n",
       "month_jul           -1.6669      0.072    -23.153      0.000      -1.808      -1.526\n",
       "month_mar            0.8586      0.132      6.498      0.000       0.600       1.118\n",
       "month_may           -1.0732      0.063    -17.121      0.000      -1.196      -0.950\n",
       "month_nov           -1.5878      0.085    -18.654      0.000      -1.755      -1.421\n",
       "month_oct            0.1900      0.118      1.610      0.107      -0.041       0.421\n",
       "poutcome_other       0.1654      0.092      1.804      0.071      -0.014       0.345\n",
       "poutcome_success     2.2465      0.078     28.634      0.000       2.093       2.400\n",
       "====================================================================================\n",
       "\"\"\""
      ]
     },
     "execution_count": 162,
     "metadata": {},
     "output_type": "execute_result"
    }
   ],
   "source": [
    "logsm=sm.GLM(y_train,X_train,family=sm.families.Binomial())\n",
    "result=logsm.fit()\n",
    "result.summary()"
   ]
  },
  {
   "cell_type": "code",
   "execution_count": 163,
   "metadata": {},
   "outputs": [
    {
     "data": {
      "text/html": [
       "<div>\n",
       "<style scoped>\n",
       "    .dataframe tbody tr th:only-of-type {\n",
       "        vertical-align: middle;\n",
       "    }\n",
       "\n",
       "    .dataframe tbody tr th {\n",
       "        vertical-align: top;\n",
       "    }\n",
       "\n",
       "    .dataframe thead th {\n",
       "        text-align: right;\n",
       "    }\n",
       "</style>\n",
       "<table border=\"1\" class=\"dataframe\">\n",
       "  <thead>\n",
       "    <tr style=\"text-align: right;\">\n",
       "      <th></th>\n",
       "      <th>Features</th>\n",
       "      <th>VIF</th>\n",
       "    </tr>\n",
       "  </thead>\n",
       "  <tbody>\n",
       "    <tr>\n",
       "      <th>0</th>\n",
       "      <td>balance</td>\n",
       "      <td>5.325090</td>\n",
       "    </tr>\n",
       "    <tr>\n",
       "      <th>5</th>\n",
       "      <td>housing_yes</td>\n",
       "      <td>2.758038</td>\n",
       "    </tr>\n",
       "    <tr>\n",
       "      <th>14</th>\n",
       "      <td>month_may</td>\n",
       "      <td>2.543358</td>\n",
       "    </tr>\n",
       "    <tr>\n",
       "      <th>7</th>\n",
       "      <td>contact_unknown</td>\n",
       "      <td>2.020585</td>\n",
       "    </tr>\n",
       "    <tr>\n",
       "      <th>1</th>\n",
       "      <td>duration</td>\n",
       "      <td>1.917777</td>\n",
       "    </tr>\n",
       "    <tr>\n",
       "      <th>12</th>\n",
       "      <td>month_jul</td>\n",
       "      <td>1.715063</td>\n",
       "    </tr>\n",
       "    <tr>\n",
       "      <th>8</th>\n",
       "      <td>month_aug</td>\n",
       "      <td>1.647882</td>\n",
       "    </tr>\n",
       "    <tr>\n",
       "      <th>15</th>\n",
       "      <td>month_nov</td>\n",
       "      <td>1.475187</td>\n",
       "    </tr>\n",
       "    <tr>\n",
       "      <th>2</th>\n",
       "      <td>campaign</td>\n",
       "      <td>1.396751</td>\n",
       "    </tr>\n",
       "    <tr>\n",
       "      <th>10</th>\n",
       "      <td>month_feb</td>\n",
       "      <td>1.248065</td>\n",
       "    </tr>\n",
       "    <tr>\n",
       "      <th>6</th>\n",
       "      <td>loan_yes</td>\n",
       "      <td>1.223654</td>\n",
       "    </tr>\n",
       "    <tr>\n",
       "      <th>11</th>\n",
       "      <td>month_jan</td>\n",
       "      <td>1.120271</td>\n",
       "    </tr>\n",
       "    <tr>\n",
       "      <th>17</th>\n",
       "      <td>poutcome_other</td>\n",
       "      <td>1.086107</td>\n",
       "    </tr>\n",
       "    <tr>\n",
       "      <th>16</th>\n",
       "      <td>month_oct</td>\n",
       "      <td>1.084176</td>\n",
       "    </tr>\n",
       "    <tr>\n",
       "      <th>18</th>\n",
       "      <td>poutcome_success</td>\n",
       "      <td>1.083493</td>\n",
       "    </tr>\n",
       "    <tr>\n",
       "      <th>13</th>\n",
       "      <td>month_mar</td>\n",
       "      <td>1.052828</td>\n",
       "    </tr>\n",
       "    <tr>\n",
       "      <th>3</th>\n",
       "      <td>job_housemaid</td>\n",
       "      <td>1.035141</td>\n",
       "    </tr>\n",
       "    <tr>\n",
       "      <th>4</th>\n",
       "      <td>job_student</td>\n",
       "      <td>1.034084</td>\n",
       "    </tr>\n",
       "    <tr>\n",
       "      <th>9</th>\n",
       "      <td>month_dec</td>\n",
       "      <td>1.029797</td>\n",
       "    </tr>\n",
       "  </tbody>\n",
       "</table>\n",
       "</div>"
      ],
      "text/plain": [
       "            Features       VIF\n",
       "0            balance  5.325090\n",
       "5        housing_yes  2.758038\n",
       "14         month_may  2.543358\n",
       "7    contact_unknown  2.020585\n",
       "1           duration  1.917777\n",
       "12         month_jul  1.715063\n",
       "8          month_aug  1.647882\n",
       "15         month_nov  1.475187\n",
       "2           campaign  1.396751\n",
       "10         month_feb  1.248065\n",
       "6           loan_yes  1.223654\n",
       "11         month_jan  1.120271\n",
       "17    poutcome_other  1.086107\n",
       "16         month_oct  1.084176\n",
       "18  poutcome_success  1.083493\n",
       "13         month_mar  1.052828\n",
       "3      job_housemaid  1.035141\n",
       "4        job_student  1.034084\n",
       "9          month_dec  1.029797"
      ]
     },
     "execution_count": 163,
     "metadata": {},
     "output_type": "execute_result"
    }
   ],
   "source": [
    "VIF = []\n",
    "for i in list(range(0, X_train.shape[1])):\n",
    "    VIF.append(variance_inflation_factor(X_train.values,i ))\n",
    "\n",
    "vif = pd.DataFrame({'Features': X_train.columns, 'VIF': VIF}).sort_values(by = 'VIF', ascending= False)\n",
    "vif"
   ]
  },
  {
   "cell_type": "code",
   "execution_count": 164,
   "metadata": {},
   "outputs": [],
   "source": [
    "X_train = X_train.drop('month_oct', axis = 1)\n",
    "X_test = X_test.drop('month_oct', axis = 1)"
   ]
  },
  {
   "cell_type": "code",
   "execution_count": 165,
   "metadata": {},
   "outputs": [
    {
     "data": {
      "text/html": [
       "<table class=\"simpletable\">\n",
       "<caption>Generalized Linear Model Regression Results</caption>\n",
       "<tr>\n",
       "  <th>Dep. Variable:</th>       <td>response</td>     <th>  No. Observations:  </th>  <td> 31647</td> \n",
       "</tr>\n",
       "<tr>\n",
       "  <th>Model:</th>                  <td>GLM</td>       <th>  Df Residuals:      </th>  <td> 31629</td> \n",
       "</tr>\n",
       "<tr>\n",
       "  <th>Model Family:</th>        <td>Binomial</td>     <th>  Df Model:          </th>  <td>    17</td> \n",
       "</tr>\n",
       "<tr>\n",
       "  <th>Link Function:</th>         <td>logit</td>      <th>  Scale:             </th> <td>  1.0000</td>\n",
       "</tr>\n",
       "<tr>\n",
       "  <th>Method:</th>                <td>IRLS</td>       <th>  Log-Likelihood:    </th> <td> -7960.4</td>\n",
       "</tr>\n",
       "<tr>\n",
       "  <th>Date:</th>            <td>Mon, 05 Jul 2021</td> <th>  Deviance:          </th> <td>  15921.</td>\n",
       "</tr>\n",
       "<tr>\n",
       "  <th>Time:</th>                <td>14:48:34</td>     <th>  Pearson chi2:      </th> <td>1.50e+06</td>\n",
       "</tr>\n",
       "<tr>\n",
       "  <th>No. Iterations:</th>          <td>7</td>        <th>                     </th>     <td> </td>   \n",
       "</tr>\n",
       "<tr>\n",
       "  <th>Covariance Type:</th>     <td>nonrobust</td>    <th>                     </th>     <td> </td>   \n",
       "</tr>\n",
       "</table>\n",
       "<table class=\"simpletable\">\n",
       "<tr>\n",
       "          <td></td>            <th>coef</th>     <th>std err</th>      <th>z</th>      <th>P>|z|</th>  <th>[0.025</th>    <th>0.975]</th>  \n",
       "</tr>\n",
       "<tr>\n",
       "  <th>balance</th>          <td>  -15.5324</td> <td>    0.543</td> <td>  -28.623</td> <td> 0.000</td> <td>  -16.596</td> <td>  -14.469</td>\n",
       "</tr>\n",
       "<tr>\n",
       "  <th>duration</th>         <td>   18.7899</td> <td>    0.363</td> <td>   51.744</td> <td> 0.000</td> <td>   18.078</td> <td>   19.502</td>\n",
       "</tr>\n",
       "<tr>\n",
       "  <th>campaign</th>         <td>   -8.2772</td> <td>    0.785</td> <td>  -10.551</td> <td> 0.000</td> <td>   -9.815</td> <td>   -6.740</td>\n",
       "</tr>\n",
       "<tr>\n",
       "  <th>job_housemaid</th>    <td>   -0.5641</td> <td>    0.144</td> <td>   -3.912</td> <td> 0.000</td> <td>   -0.847</td> <td>   -0.282</td>\n",
       "</tr>\n",
       "<tr>\n",
       "  <th>job_student</th>      <td>    0.3507</td> <td>    0.110</td> <td>    3.196</td> <td> 0.001</td> <td>    0.136</td> <td>    0.566</td>\n",
       "</tr>\n",
       "<tr>\n",
       "  <th>housing_yes</th>      <td>   -1.0442</td> <td>    0.047</td> <td>  -22.364</td> <td> 0.000</td> <td>   -1.136</td> <td>   -0.953</td>\n",
       "</tr>\n",
       "<tr>\n",
       "  <th>loan_yes</th>         <td>   -0.5492</td> <td>    0.069</td> <td>   -8.006</td> <td> 0.000</td> <td>   -0.684</td> <td>   -0.415</td>\n",
       "</tr>\n",
       "<tr>\n",
       "  <th>contact_unknown</th>  <td>   -1.9741</td> <td>    0.070</td> <td>  -28.083</td> <td> 0.000</td> <td>   -2.112</td> <td>   -1.836</td>\n",
       "</tr>\n",
       "<tr>\n",
       "  <th>month_aug</th>        <td>   -1.6586</td> <td>    0.070</td> <td>  -23.820</td> <td> 0.000</td> <td>   -1.795</td> <td>   -1.522</td>\n",
       "</tr>\n",
       "<tr>\n",
       "  <th>month_dec</th>        <td>    0.0795</td> <td>    0.210</td> <td>    0.378</td> <td> 0.705</td> <td>   -0.333</td> <td>    0.492</td>\n",
       "</tr>\n",
       "<tr>\n",
       "  <th>month_feb</th>        <td>   -1.1093</td> <td>    0.082</td> <td>  -13.574</td> <td> 0.000</td> <td>   -1.270</td> <td>   -0.949</td>\n",
       "</tr>\n",
       "<tr>\n",
       "  <th>month_jan</th>        <td>   -2.1218</td> <td>    0.131</td> <td>  -16.210</td> <td> 0.000</td> <td>   -2.378</td> <td>   -1.865</td>\n",
       "</tr>\n",
       "<tr>\n",
       "  <th>month_jul</th>        <td>   -1.6867</td> <td>    0.071</td> <td>  -23.787</td> <td> 0.000</td> <td>   -1.826</td> <td>   -1.548</td>\n",
       "</tr>\n",
       "<tr>\n",
       "  <th>month_mar</th>        <td>    0.8345</td> <td>    0.131</td> <td>    6.358</td> <td> 0.000</td> <td>    0.577</td> <td>    1.092</td>\n",
       "</tr>\n",
       "<tr>\n",
       "  <th>month_may</th>        <td>   -1.0884</td> <td>    0.062</td> <td>  -17.577</td> <td> 0.000</td> <td>   -1.210</td> <td>   -0.967</td>\n",
       "</tr>\n",
       "<tr>\n",
       "  <th>month_nov</th>        <td>   -1.6105</td> <td>    0.084</td> <td>  -19.190</td> <td> 0.000</td> <td>   -1.775</td> <td>   -1.446</td>\n",
       "</tr>\n",
       "<tr>\n",
       "  <th>poutcome_other</th>   <td>    0.1693</td> <td>    0.092</td> <td>    1.848</td> <td> 0.065</td> <td>   -0.010</td> <td>    0.349</td>\n",
       "</tr>\n",
       "<tr>\n",
       "  <th>poutcome_success</th> <td>    2.2512</td> <td>    0.078</td> <td>   28.746</td> <td> 0.000</td> <td>    2.098</td> <td>    2.405</td>\n",
       "</tr>\n",
       "</table>"
      ],
      "text/plain": [
       "<class 'statsmodels.iolib.summary.Summary'>\n",
       "\"\"\"\n",
       "                 Generalized Linear Model Regression Results                  \n",
       "==============================================================================\n",
       "Dep. Variable:               response   No. Observations:                31647\n",
       "Model:                            GLM   Df Residuals:                    31629\n",
       "Model Family:                Binomial   Df Model:                           17\n",
       "Link Function:                  logit   Scale:                          1.0000\n",
       "Method:                          IRLS   Log-Likelihood:                -7960.4\n",
       "Date:                Mon, 05 Jul 2021   Deviance:                       15921.\n",
       "Time:                        14:48:34   Pearson chi2:                 1.50e+06\n",
       "No. Iterations:                     7                                         \n",
       "Covariance Type:            nonrobust                                         \n",
       "====================================================================================\n",
       "                       coef    std err          z      P>|z|      [0.025      0.975]\n",
       "------------------------------------------------------------------------------------\n",
       "balance            -15.5324      0.543    -28.623      0.000     -16.596     -14.469\n",
       "duration            18.7899      0.363     51.744      0.000      18.078      19.502\n",
       "campaign            -8.2772      0.785    -10.551      0.000      -9.815      -6.740\n",
       "job_housemaid       -0.5641      0.144     -3.912      0.000      -0.847      -0.282\n",
       "job_student          0.3507      0.110      3.196      0.001       0.136       0.566\n",
       "housing_yes         -1.0442      0.047    -22.364      0.000      -1.136      -0.953\n",
       "loan_yes            -0.5492      0.069     -8.006      0.000      -0.684      -0.415\n",
       "contact_unknown     -1.9741      0.070    -28.083      0.000      -2.112      -1.836\n",
       "month_aug           -1.6586      0.070    -23.820      0.000      -1.795      -1.522\n",
       "month_dec            0.0795      0.210      0.378      0.705      -0.333       0.492\n",
       "month_feb           -1.1093      0.082    -13.574      0.000      -1.270      -0.949\n",
       "month_jan           -2.1218      0.131    -16.210      0.000      -2.378      -1.865\n",
       "month_jul           -1.6867      0.071    -23.787      0.000      -1.826      -1.548\n",
       "month_mar            0.8345      0.131      6.358      0.000       0.577       1.092\n",
       "month_may           -1.0884      0.062    -17.577      0.000      -1.210      -0.967\n",
       "month_nov           -1.6105      0.084    -19.190      0.000      -1.775      -1.446\n",
       "poutcome_other       0.1693      0.092      1.848      0.065      -0.010       0.349\n",
       "poutcome_success     2.2512      0.078     28.746      0.000       2.098       2.405\n",
       "====================================================================================\n",
       "\"\"\""
      ]
     },
     "execution_count": 165,
     "metadata": {},
     "output_type": "execute_result"
    }
   ],
   "source": [
    "logsm=sm.GLM(y_train,X_train,family=sm.families.Binomial())\n",
    "result=logsm.fit()\n",
    "result.summary()"
   ]
  },
  {
   "cell_type": "code",
   "execution_count": 166,
   "metadata": {},
   "outputs": [
    {
     "data": {
      "text/html": [
       "<div>\n",
       "<style scoped>\n",
       "    .dataframe tbody tr th:only-of-type {\n",
       "        vertical-align: middle;\n",
       "    }\n",
       "\n",
       "    .dataframe tbody tr th {\n",
       "        vertical-align: top;\n",
       "    }\n",
       "\n",
       "    .dataframe thead th {\n",
       "        text-align: right;\n",
       "    }\n",
       "</style>\n",
       "<table border=\"1\" class=\"dataframe\">\n",
       "  <thead>\n",
       "    <tr style=\"text-align: right;\">\n",
       "      <th></th>\n",
       "      <th>Features</th>\n",
       "      <th>VIF</th>\n",
       "    </tr>\n",
       "  </thead>\n",
       "  <tbody>\n",
       "    <tr>\n",
       "      <th>0</th>\n",
       "      <td>balance</td>\n",
       "      <td>5.099274</td>\n",
       "    </tr>\n",
       "    <tr>\n",
       "      <th>5</th>\n",
       "      <td>housing_yes</td>\n",
       "      <td>2.757088</td>\n",
       "    </tr>\n",
       "    <tr>\n",
       "      <th>14</th>\n",
       "      <td>month_may</td>\n",
       "      <td>2.506735</td>\n",
       "    </tr>\n",
       "    <tr>\n",
       "      <th>7</th>\n",
       "      <td>contact_unknown</td>\n",
       "      <td>2.009361</td>\n",
       "    </tr>\n",
       "    <tr>\n",
       "      <th>1</th>\n",
       "      <td>duration</td>\n",
       "      <td>1.914238</td>\n",
       "    </tr>\n",
       "    <tr>\n",
       "      <th>12</th>\n",
       "      <td>month_jul</td>\n",
       "      <td>1.682637</td>\n",
       "    </tr>\n",
       "    <tr>\n",
       "      <th>8</th>\n",
       "      <td>month_aug</td>\n",
       "      <td>1.612920</td>\n",
       "    </tr>\n",
       "    <tr>\n",
       "      <th>15</th>\n",
       "      <td>month_nov</td>\n",
       "      <td>1.447976</td>\n",
       "    </tr>\n",
       "    <tr>\n",
       "      <th>2</th>\n",
       "      <td>campaign</td>\n",
       "      <td>1.396611</td>\n",
       "    </tr>\n",
       "    <tr>\n",
       "      <th>10</th>\n",
       "      <td>month_feb</td>\n",
       "      <td>1.232147</td>\n",
       "    </tr>\n",
       "    <tr>\n",
       "      <th>6</th>\n",
       "      <td>loan_yes</td>\n",
       "      <td>1.223363</td>\n",
       "    </tr>\n",
       "    <tr>\n",
       "      <th>11</th>\n",
       "      <td>month_jan</td>\n",
       "      <td>1.112563</td>\n",
       "    </tr>\n",
       "    <tr>\n",
       "      <th>16</th>\n",
       "      <td>poutcome_other</td>\n",
       "      <td>1.085313</td>\n",
       "    </tr>\n",
       "    <tr>\n",
       "      <th>17</th>\n",
       "      <td>poutcome_success</td>\n",
       "      <td>1.074531</td>\n",
       "    </tr>\n",
       "    <tr>\n",
       "      <th>13</th>\n",
       "      <td>month_mar</td>\n",
       "      <td>1.049008</td>\n",
       "    </tr>\n",
       "    <tr>\n",
       "      <th>3</th>\n",
       "      <td>job_housemaid</td>\n",
       "      <td>1.034951</td>\n",
       "    </tr>\n",
       "    <tr>\n",
       "      <th>4</th>\n",
       "      <td>job_student</td>\n",
       "      <td>1.033681</td>\n",
       "    </tr>\n",
       "    <tr>\n",
       "      <th>9</th>\n",
       "      <td>month_dec</td>\n",
       "      <td>1.027603</td>\n",
       "    </tr>\n",
       "  </tbody>\n",
       "</table>\n",
       "</div>"
      ],
      "text/plain": [
       "            Features       VIF\n",
       "0            balance  5.099274\n",
       "5        housing_yes  2.757088\n",
       "14         month_may  2.506735\n",
       "7    contact_unknown  2.009361\n",
       "1           duration  1.914238\n",
       "12         month_jul  1.682637\n",
       "8          month_aug  1.612920\n",
       "15         month_nov  1.447976\n",
       "2           campaign  1.396611\n",
       "10         month_feb  1.232147\n",
       "6           loan_yes  1.223363\n",
       "11         month_jan  1.112563\n",
       "16    poutcome_other  1.085313\n",
       "17  poutcome_success  1.074531\n",
       "13         month_mar  1.049008\n",
       "3      job_housemaid  1.034951\n",
       "4        job_student  1.033681\n",
       "9          month_dec  1.027603"
      ]
     },
     "execution_count": 166,
     "metadata": {},
     "output_type": "execute_result"
    }
   ],
   "source": [
    "VIF = []\n",
    "for i in list(range(0, X_train.shape[1])):\n",
    "    VIF.append(variance_inflation_factor(X_train.values,i ))\n",
    "\n",
    "vif = pd.DataFrame({'Features': X_train.columns, 'VIF': VIF}).sort_values(by = 'VIF', ascending= False)\n",
    "vif"
   ]
  },
  {
   "cell_type": "code",
   "execution_count": 167,
   "metadata": {},
   "outputs": [],
   "source": [
    "X_train = X_train.drop('month_dec', axis = 1)\n",
    "X_test = X_test.drop('month_dec', axis = 1)"
   ]
  },
  {
   "cell_type": "code",
   "execution_count": 168,
   "metadata": {},
   "outputs": [
    {
     "data": {
      "text/html": [
       "<table class=\"simpletable\">\n",
       "<caption>Generalized Linear Model Regression Results</caption>\n",
       "<tr>\n",
       "  <th>Dep. Variable:</th>       <td>response</td>     <th>  No. Observations:  </th>  <td> 31647</td> \n",
       "</tr>\n",
       "<tr>\n",
       "  <th>Model:</th>                  <td>GLM</td>       <th>  Df Residuals:      </th>  <td> 31630</td> \n",
       "</tr>\n",
       "<tr>\n",
       "  <th>Model Family:</th>        <td>Binomial</td>     <th>  Df Model:          </th>  <td>    16</td> \n",
       "</tr>\n",
       "<tr>\n",
       "  <th>Link Function:</th>         <td>logit</td>      <th>  Scale:             </th> <td>  1.0000</td>\n",
       "</tr>\n",
       "<tr>\n",
       "  <th>Method:</th>                <td>IRLS</td>       <th>  Log-Likelihood:    </th> <td> -7960.5</td>\n",
       "</tr>\n",
       "<tr>\n",
       "  <th>Date:</th>            <td>Mon, 05 Jul 2021</td> <th>  Deviance:          </th> <td>  15921.</td>\n",
       "</tr>\n",
       "<tr>\n",
       "  <th>Time:</th>                <td>14:48:36</td>     <th>  Pearson chi2:      </th> <td>1.50e+06</td>\n",
       "</tr>\n",
       "<tr>\n",
       "  <th>No. Iterations:</th>          <td>7</td>        <th>                     </th>     <td> </td>   \n",
       "</tr>\n",
       "<tr>\n",
       "  <th>Covariance Type:</th>     <td>nonrobust</td>    <th>                     </th>     <td> </td>   \n",
       "</tr>\n",
       "</table>\n",
       "<table class=\"simpletable\">\n",
       "<tr>\n",
       "          <td></td>            <th>coef</th>     <th>std err</th>      <th>z</th>      <th>P>|z|</th>  <th>[0.025</th>    <th>0.975]</th>  \n",
       "</tr>\n",
       "<tr>\n",
       "  <th>balance</th>          <td>  -15.5047</td> <td>    0.537</td> <td>  -28.846</td> <td> 0.000</td> <td>  -16.558</td> <td>  -14.451</td>\n",
       "</tr>\n",
       "<tr>\n",
       "  <th>duration</th>         <td>   18.7924</td> <td>    0.363</td> <td>   51.756</td> <td> 0.000</td> <td>   18.081</td> <td>   19.504</td>\n",
       "</tr>\n",
       "<tr>\n",
       "  <th>campaign</th>         <td>   -8.2690</td> <td>    0.784</td> <td>  -10.547</td> <td> 0.000</td> <td>   -9.806</td> <td>   -6.732</td>\n",
       "</tr>\n",
       "<tr>\n",
       "  <th>job_housemaid</th>    <td>   -0.5641</td> <td>    0.144</td> <td>   -3.913</td> <td> 0.000</td> <td>   -0.847</td> <td>   -0.282</td>\n",
       "</tr>\n",
       "<tr>\n",
       "  <th>job_student</th>      <td>    0.3516</td> <td>    0.110</td> <td>    3.205</td> <td> 0.001</td> <td>    0.137</td> <td>    0.567</td>\n",
       "</tr>\n",
       "<tr>\n",
       "  <th>housing_yes</th>      <td>   -1.0450</td> <td>    0.047</td> <td>  -22.403</td> <td> 0.000</td> <td>   -1.136</td> <td>   -0.954</td>\n",
       "</tr>\n",
       "<tr>\n",
       "  <th>loan_yes</th>         <td>   -0.5493</td> <td>    0.069</td> <td>   -8.007</td> <td> 0.000</td> <td>   -0.684</td> <td>   -0.415</td>\n",
       "</tr>\n",
       "<tr>\n",
       "  <th>contact_unknown</th>  <td>   -1.9756</td> <td>    0.070</td> <td>  -28.151</td> <td> 0.000</td> <td>   -2.113</td> <td>   -1.838</td>\n",
       "</tr>\n",
       "<tr>\n",
       "  <th>month_aug</th>        <td>   -1.6613</td> <td>    0.069</td> <td>  -23.992</td> <td> 0.000</td> <td>   -1.797</td> <td>   -1.526</td>\n",
       "</tr>\n",
       "<tr>\n",
       "  <th>month_feb</th>        <td>   -1.1119</td> <td>    0.081</td> <td>  -13.651</td> <td> 0.000</td> <td>   -1.272</td> <td>   -0.952</td>\n",
       "</tr>\n",
       "<tr>\n",
       "  <th>month_jan</th>        <td>   -2.1244</td> <td>    0.131</td> <td>  -16.251</td> <td> 0.000</td> <td>   -2.381</td> <td>   -1.868</td>\n",
       "</tr>\n",
       "<tr>\n",
       "  <th>month_jul</th>        <td>   -1.6891</td> <td>    0.071</td> <td>  -23.917</td> <td> 0.000</td> <td>   -1.828</td> <td>   -1.551</td>\n",
       "</tr>\n",
       "<tr>\n",
       "  <th>month_mar</th>        <td>    0.8317</td> <td>    0.131</td> <td>    6.347</td> <td> 0.000</td> <td>    0.575</td> <td>    1.089</td>\n",
       "</tr>\n",
       "<tr>\n",
       "  <th>month_may</th>        <td>   -1.0902</td> <td>    0.062</td> <td>  -17.656</td> <td> 0.000</td> <td>   -1.211</td> <td>   -0.969</td>\n",
       "</tr>\n",
       "<tr>\n",
       "  <th>month_nov</th>        <td>   -1.6131</td> <td>    0.084</td> <td>  -19.286</td> <td> 0.000</td> <td>   -1.777</td> <td>   -1.449</td>\n",
       "</tr>\n",
       "<tr>\n",
       "  <th>poutcome_other</th>   <td>    0.1696</td> <td>    0.092</td> <td>    1.852</td> <td> 0.064</td> <td>   -0.010</td> <td>    0.349</td>\n",
       "</tr>\n",
       "<tr>\n",
       "  <th>poutcome_success</th> <td>    2.2524</td> <td>    0.078</td> <td>   28.792</td> <td> 0.000</td> <td>    2.099</td> <td>    2.406</td>\n",
       "</tr>\n",
       "</table>"
      ],
      "text/plain": [
       "<class 'statsmodels.iolib.summary.Summary'>\n",
       "\"\"\"\n",
       "                 Generalized Linear Model Regression Results                  \n",
       "==============================================================================\n",
       "Dep. Variable:               response   No. Observations:                31647\n",
       "Model:                            GLM   Df Residuals:                    31630\n",
       "Model Family:                Binomial   Df Model:                           16\n",
       "Link Function:                  logit   Scale:                          1.0000\n",
       "Method:                          IRLS   Log-Likelihood:                -7960.5\n",
       "Date:                Mon, 05 Jul 2021   Deviance:                       15921.\n",
       "Time:                        14:48:36   Pearson chi2:                 1.50e+06\n",
       "No. Iterations:                     7                                         \n",
       "Covariance Type:            nonrobust                                         \n",
       "====================================================================================\n",
       "                       coef    std err          z      P>|z|      [0.025      0.975]\n",
       "------------------------------------------------------------------------------------\n",
       "balance            -15.5047      0.537    -28.846      0.000     -16.558     -14.451\n",
       "duration            18.7924      0.363     51.756      0.000      18.081      19.504\n",
       "campaign            -8.2690      0.784    -10.547      0.000      -9.806      -6.732\n",
       "job_housemaid       -0.5641      0.144     -3.913      0.000      -0.847      -0.282\n",
       "job_student          0.3516      0.110      3.205      0.001       0.137       0.567\n",
       "housing_yes         -1.0450      0.047    -22.403      0.000      -1.136      -0.954\n",
       "loan_yes            -0.5493      0.069     -8.007      0.000      -0.684      -0.415\n",
       "contact_unknown     -1.9756      0.070    -28.151      0.000      -2.113      -1.838\n",
       "month_aug           -1.6613      0.069    -23.992      0.000      -1.797      -1.526\n",
       "month_feb           -1.1119      0.081    -13.651      0.000      -1.272      -0.952\n",
       "month_jan           -2.1244      0.131    -16.251      0.000      -2.381      -1.868\n",
       "month_jul           -1.6891      0.071    -23.917      0.000      -1.828      -1.551\n",
       "month_mar            0.8317      0.131      6.347      0.000       0.575       1.089\n",
       "month_may           -1.0902      0.062    -17.656      0.000      -1.211      -0.969\n",
       "month_nov           -1.6131      0.084    -19.286      0.000      -1.777      -1.449\n",
       "poutcome_other       0.1696      0.092      1.852      0.064      -0.010       0.349\n",
       "poutcome_success     2.2524      0.078     28.792      0.000       2.099       2.406\n",
       "====================================================================================\n",
       "\"\"\""
      ]
     },
     "execution_count": 168,
     "metadata": {},
     "output_type": "execute_result"
    }
   ],
   "source": [
    "logsm=sm.GLM(y_train,X_train,family=sm.families.Binomial())\n",
    "result=logsm.fit()\n",
    "result.summary()"
   ]
  },
  {
   "cell_type": "code",
   "execution_count": 169,
   "metadata": {},
   "outputs": [
    {
     "data": {
      "text/html": [
       "<div>\n",
       "<style scoped>\n",
       "    .dataframe tbody tr th:only-of-type {\n",
       "        vertical-align: middle;\n",
       "    }\n",
       "\n",
       "    .dataframe tbody tr th {\n",
       "        vertical-align: top;\n",
       "    }\n",
       "\n",
       "    .dataframe thead th {\n",
       "        text-align: right;\n",
       "    }\n",
       "</style>\n",
       "<table border=\"1\" class=\"dataframe\">\n",
       "  <thead>\n",
       "    <tr style=\"text-align: right;\">\n",
       "      <th></th>\n",
       "      <th>Features</th>\n",
       "      <th>VIF</th>\n",
       "    </tr>\n",
       "  </thead>\n",
       "  <tbody>\n",
       "    <tr>\n",
       "      <th>0</th>\n",
       "      <td>balance</td>\n",
       "      <td>5.050322</td>\n",
       "    </tr>\n",
       "    <tr>\n",
       "      <th>5</th>\n",
       "      <td>housing_yes</td>\n",
       "      <td>2.756419</td>\n",
       "    </tr>\n",
       "    <tr>\n",
       "      <th>13</th>\n",
       "      <td>month_may</td>\n",
       "      <td>2.498870</td>\n",
       "    </tr>\n",
       "    <tr>\n",
       "      <th>7</th>\n",
       "      <td>contact_unknown</td>\n",
       "      <td>2.005575</td>\n",
       "    </tr>\n",
       "    <tr>\n",
       "      <th>1</th>\n",
       "      <td>duration</td>\n",
       "      <td>1.911939</td>\n",
       "    </tr>\n",
       "    <tr>\n",
       "      <th>11</th>\n",
       "      <td>month_jul</td>\n",
       "      <td>1.674417</td>\n",
       "    </tr>\n",
       "    <tr>\n",
       "      <th>8</th>\n",
       "      <td>month_aug</td>\n",
       "      <td>1.603270</td>\n",
       "    </tr>\n",
       "    <tr>\n",
       "      <th>14</th>\n",
       "      <td>month_nov</td>\n",
       "      <td>1.441322</td>\n",
       "    </tr>\n",
       "    <tr>\n",
       "      <th>2</th>\n",
       "      <td>campaign</td>\n",
       "      <td>1.396444</td>\n",
       "    </tr>\n",
       "    <tr>\n",
       "      <th>9</th>\n",
       "      <td>month_feb</td>\n",
       "      <td>1.227810</td>\n",
       "    </tr>\n",
       "    <tr>\n",
       "      <th>6</th>\n",
       "      <td>loan_yes</td>\n",
       "      <td>1.223359</td>\n",
       "    </tr>\n",
       "    <tr>\n",
       "      <th>10</th>\n",
       "      <td>month_jan</td>\n",
       "      <td>1.110533</td>\n",
       "    </tr>\n",
       "    <tr>\n",
       "      <th>15</th>\n",
       "      <td>poutcome_other</td>\n",
       "      <td>1.084811</td>\n",
       "    </tr>\n",
       "    <tr>\n",
       "      <th>16</th>\n",
       "      <td>poutcome_success</td>\n",
       "      <td>1.068535</td>\n",
       "    </tr>\n",
       "    <tr>\n",
       "      <th>12</th>\n",
       "      <td>month_mar</td>\n",
       "      <td>1.047878</td>\n",
       "    </tr>\n",
       "    <tr>\n",
       "      <th>3</th>\n",
       "      <td>job_housemaid</td>\n",
       "      <td>1.034950</td>\n",
       "    </tr>\n",
       "    <tr>\n",
       "      <th>4</th>\n",
       "      <td>job_student</td>\n",
       "      <td>1.033210</td>\n",
       "    </tr>\n",
       "  </tbody>\n",
       "</table>\n",
       "</div>"
      ],
      "text/plain": [
       "            Features       VIF\n",
       "0            balance  5.050322\n",
       "5        housing_yes  2.756419\n",
       "13         month_may  2.498870\n",
       "7    contact_unknown  2.005575\n",
       "1           duration  1.911939\n",
       "11         month_jul  1.674417\n",
       "8          month_aug  1.603270\n",
       "14         month_nov  1.441322\n",
       "2           campaign  1.396444\n",
       "9          month_feb  1.227810\n",
       "6           loan_yes  1.223359\n",
       "10         month_jan  1.110533\n",
       "15    poutcome_other  1.084811\n",
       "16  poutcome_success  1.068535\n",
       "12         month_mar  1.047878\n",
       "3      job_housemaid  1.034950\n",
       "4        job_student  1.033210"
      ]
     },
     "execution_count": 169,
     "metadata": {},
     "output_type": "execute_result"
    }
   ],
   "source": [
    "VIF = []\n",
    "for i in list(range(0, X_train.shape[1])):\n",
    "    VIF.append(variance_inflation_factor(X_train.values,i ))\n",
    "\n",
    "vif = pd.DataFrame({'Features': X_train.columns, 'VIF': VIF}).sort_values(by = 'VIF', ascending= False)\n",
    "vif"
   ]
  },
  {
   "cell_type": "code",
   "execution_count": 170,
   "metadata": {},
   "outputs": [],
   "source": [
    "X_train = X_train.drop('poutcome_other', axis = 1)\n",
    "X_test = X_test.drop('poutcome_other', axis = 1)"
   ]
  },
  {
   "cell_type": "code",
   "execution_count": 171,
   "metadata": {},
   "outputs": [
    {
     "data": {
      "text/html": [
       "<table class=\"simpletable\">\n",
       "<caption>Generalized Linear Model Regression Results</caption>\n",
       "<tr>\n",
       "  <th>Dep. Variable:</th>       <td>response</td>     <th>  No. Observations:  </th>  <td> 31647</td> \n",
       "</tr>\n",
       "<tr>\n",
       "  <th>Model:</th>                  <td>GLM</td>       <th>  Df Residuals:      </th>  <td> 31631</td> \n",
       "</tr>\n",
       "<tr>\n",
       "  <th>Model Family:</th>        <td>Binomial</td>     <th>  Df Model:          </th>  <td>    15</td> \n",
       "</tr>\n",
       "<tr>\n",
       "  <th>Link Function:</th>         <td>logit</td>      <th>  Scale:             </th> <td>  1.0000</td>\n",
       "</tr>\n",
       "<tr>\n",
       "  <th>Method:</th>                <td>IRLS</td>       <th>  Log-Likelihood:    </th> <td> -7962.2</td>\n",
       "</tr>\n",
       "<tr>\n",
       "  <th>Date:</th>            <td>Mon, 05 Jul 2021</td> <th>  Deviance:          </th> <td>  15924.</td>\n",
       "</tr>\n",
       "<tr>\n",
       "  <th>Time:</th>                <td>14:48:38</td>     <th>  Pearson chi2:      </th> <td>1.53e+06</td>\n",
       "</tr>\n",
       "<tr>\n",
       "  <th>No. Iterations:</th>          <td>7</td>        <th>                     </th>     <td> </td>   \n",
       "</tr>\n",
       "<tr>\n",
       "  <th>Covariance Type:</th>     <td>nonrobust</td>    <th>                     </th>     <td> </td>   \n",
       "</tr>\n",
       "</table>\n",
       "<table class=\"simpletable\">\n",
       "<tr>\n",
       "          <td></td>            <th>coef</th>     <th>std err</th>      <th>z</th>      <th>P>|z|</th>  <th>[0.025</th>    <th>0.975]</th>  \n",
       "</tr>\n",
       "<tr>\n",
       "  <th>balance</th>          <td>  -15.3584</td> <td>    0.531</td> <td>  -28.927</td> <td> 0.000</td> <td>  -16.399</td> <td>  -14.318</td>\n",
       "</tr>\n",
       "<tr>\n",
       "  <th>duration</th>         <td>   18.7899</td> <td>    0.363</td> <td>   51.761</td> <td> 0.000</td> <td>   18.078</td> <td>   19.501</td>\n",
       "</tr>\n",
       "<tr>\n",
       "  <th>campaign</th>         <td>   -8.2312</td> <td>    0.783</td> <td>  -10.513</td> <td> 0.000</td> <td>   -9.766</td> <td>   -6.697</td>\n",
       "</tr>\n",
       "<tr>\n",
       "  <th>job_housemaid</th>    <td>   -0.5653</td> <td>    0.144</td> <td>   -3.920</td> <td> 0.000</td> <td>   -0.848</td> <td>   -0.283</td>\n",
       "</tr>\n",
       "<tr>\n",
       "  <th>job_student</th>      <td>    0.3567</td> <td>    0.110</td> <td>    3.251</td> <td> 0.001</td> <td>    0.142</td> <td>    0.572</td>\n",
       "</tr>\n",
       "<tr>\n",
       "  <th>housing_yes</th>      <td>   -1.0410</td> <td>    0.047</td> <td>  -22.346</td> <td> 0.000</td> <td>   -1.132</td> <td>   -0.950</td>\n",
       "</tr>\n",
       "<tr>\n",
       "  <th>loan_yes</th>         <td>   -0.5481</td> <td>    0.069</td> <td>   -7.988</td> <td> 0.000</td> <td>   -0.683</td> <td>   -0.414</td>\n",
       "</tr>\n",
       "<tr>\n",
       "  <th>contact_unknown</th>  <td>   -1.9897</td> <td>    0.070</td> <td>  -28.522</td> <td> 0.000</td> <td>   -2.126</td> <td>   -1.853</td>\n",
       "</tr>\n",
       "<tr>\n",
       "  <th>month_aug</th>        <td>   -1.6708</td> <td>    0.069</td> <td>  -24.200</td> <td> 0.000</td> <td>   -1.806</td> <td>   -1.535</td>\n",
       "</tr>\n",
       "<tr>\n",
       "  <th>month_feb</th>        <td>   -1.1115</td> <td>    0.081</td> <td>  -13.640</td> <td> 0.000</td> <td>   -1.271</td> <td>   -0.952</td>\n",
       "</tr>\n",
       "<tr>\n",
       "  <th>month_jan</th>        <td>   -2.1220</td> <td>    0.131</td> <td>  -16.237</td> <td> 0.000</td> <td>   -2.378</td> <td>   -1.866</td>\n",
       "</tr>\n",
       "<tr>\n",
       "  <th>month_jul</th>        <td>   -1.7010</td> <td>    0.070</td> <td>  -24.190</td> <td> 0.000</td> <td>   -1.839</td> <td>   -1.563</td>\n",
       "</tr>\n",
       "<tr>\n",
       "  <th>month_mar</th>        <td>    0.8286</td> <td>    0.131</td> <td>    6.328</td> <td> 0.000</td> <td>    0.572</td> <td>    1.085</td>\n",
       "</tr>\n",
       "<tr>\n",
       "  <th>month_may</th>        <td>   -1.0901</td> <td>    0.062</td> <td>  -17.653</td> <td> 0.000</td> <td>   -1.211</td> <td>   -0.969</td>\n",
       "</tr>\n",
       "<tr>\n",
       "  <th>month_nov</th>        <td>   -1.6169</td> <td>    0.084</td> <td>  -19.345</td> <td> 0.000</td> <td>   -1.781</td> <td>   -1.453</td>\n",
       "</tr>\n",
       "<tr>\n",
       "  <th>poutcome_success</th> <td>    2.2400</td> <td>    0.078</td> <td>   28.749</td> <td> 0.000</td> <td>    2.087</td> <td>    2.393</td>\n",
       "</tr>\n",
       "</table>"
      ],
      "text/plain": [
       "<class 'statsmodels.iolib.summary.Summary'>\n",
       "\"\"\"\n",
       "                 Generalized Linear Model Regression Results                  \n",
       "==============================================================================\n",
       "Dep. Variable:               response   No. Observations:                31647\n",
       "Model:                            GLM   Df Residuals:                    31631\n",
       "Model Family:                Binomial   Df Model:                           15\n",
       "Link Function:                  logit   Scale:                          1.0000\n",
       "Method:                          IRLS   Log-Likelihood:                -7962.2\n",
       "Date:                Mon, 05 Jul 2021   Deviance:                       15924.\n",
       "Time:                        14:48:38   Pearson chi2:                 1.53e+06\n",
       "No. Iterations:                     7                                         \n",
       "Covariance Type:            nonrobust                                         \n",
       "====================================================================================\n",
       "                       coef    std err          z      P>|z|      [0.025      0.975]\n",
       "------------------------------------------------------------------------------------\n",
       "balance            -15.3584      0.531    -28.927      0.000     -16.399     -14.318\n",
       "duration            18.7899      0.363     51.761      0.000      18.078      19.501\n",
       "campaign            -8.2312      0.783    -10.513      0.000      -9.766      -6.697\n",
       "job_housemaid       -0.5653      0.144     -3.920      0.000      -0.848      -0.283\n",
       "job_student          0.3567      0.110      3.251      0.001       0.142       0.572\n",
       "housing_yes         -1.0410      0.047    -22.346      0.000      -1.132      -0.950\n",
       "loan_yes            -0.5481      0.069     -7.988      0.000      -0.683      -0.414\n",
       "contact_unknown     -1.9897      0.070    -28.522      0.000      -2.126      -1.853\n",
       "month_aug           -1.6708      0.069    -24.200      0.000      -1.806      -1.535\n",
       "month_feb           -1.1115      0.081    -13.640      0.000      -1.271      -0.952\n",
       "month_jan           -2.1220      0.131    -16.237      0.000      -2.378      -1.866\n",
       "month_jul           -1.7010      0.070    -24.190      0.000      -1.839      -1.563\n",
       "month_mar            0.8286      0.131      6.328      0.000       0.572       1.085\n",
       "month_may           -1.0901      0.062    -17.653      0.000      -1.211      -0.969\n",
       "month_nov           -1.6169      0.084    -19.345      0.000      -1.781      -1.453\n",
       "poutcome_success     2.2400      0.078     28.749      0.000       2.087       2.393\n",
       "====================================================================================\n",
       "\"\"\""
      ]
     },
     "execution_count": 171,
     "metadata": {},
     "output_type": "execute_result"
    }
   ],
   "source": [
    "logsm=sm.GLM(y_train,X_train,family=sm.families.Binomial())\n",
    "result=logsm.fit()\n",
    "result.summary()"
   ]
  },
  {
   "cell_type": "code",
   "execution_count": 172,
   "metadata": {},
   "outputs": [
    {
     "data": {
      "text/html": [
       "<div>\n",
       "<style scoped>\n",
       "    .dataframe tbody tr th:only-of-type {\n",
       "        vertical-align: middle;\n",
       "    }\n",
       "\n",
       "    .dataframe tbody tr th {\n",
       "        vertical-align: top;\n",
       "    }\n",
       "\n",
       "    .dataframe thead th {\n",
       "        text-align: right;\n",
       "    }\n",
       "</style>\n",
       "<table border=\"1\" class=\"dataframe\">\n",
       "  <thead>\n",
       "    <tr style=\"text-align: right;\">\n",
       "      <th></th>\n",
       "      <th>Features</th>\n",
       "      <th>VIF</th>\n",
       "    </tr>\n",
       "  </thead>\n",
       "  <tbody>\n",
       "    <tr>\n",
       "      <th>0</th>\n",
       "      <td>balance</td>\n",
       "      <td>4.986113</td>\n",
       "    </tr>\n",
       "    <tr>\n",
       "      <th>5</th>\n",
       "      <td>housing_yes</td>\n",
       "      <td>2.746314</td>\n",
       "    </tr>\n",
       "    <tr>\n",
       "      <th>13</th>\n",
       "      <td>month_may</td>\n",
       "      <td>2.497934</td>\n",
       "    </tr>\n",
       "    <tr>\n",
       "      <th>7</th>\n",
       "      <td>contact_unknown</td>\n",
       "      <td>1.962157</td>\n",
       "    </tr>\n",
       "    <tr>\n",
       "      <th>1</th>\n",
       "      <td>duration</td>\n",
       "      <td>1.911231</td>\n",
       "    </tr>\n",
       "    <tr>\n",
       "      <th>11</th>\n",
       "      <td>month_jul</td>\n",
       "      <td>1.661207</td>\n",
       "    </tr>\n",
       "    <tr>\n",
       "      <th>8</th>\n",
       "      <td>month_aug</td>\n",
       "      <td>1.596571</td>\n",
       "    </tr>\n",
       "    <tr>\n",
       "      <th>14</th>\n",
       "      <td>month_nov</td>\n",
       "      <td>1.440620</td>\n",
       "    </tr>\n",
       "    <tr>\n",
       "      <th>2</th>\n",
       "      <td>campaign</td>\n",
       "      <td>1.395957</td>\n",
       "    </tr>\n",
       "    <tr>\n",
       "      <th>9</th>\n",
       "      <td>month_feb</td>\n",
       "      <td>1.225907</td>\n",
       "    </tr>\n",
       "    <tr>\n",
       "      <th>6</th>\n",
       "      <td>loan_yes</td>\n",
       "      <td>1.223002</td>\n",
       "    </tr>\n",
       "    <tr>\n",
       "      <th>10</th>\n",
       "      <td>month_jan</td>\n",
       "      <td>1.108689</td>\n",
       "    </tr>\n",
       "    <tr>\n",
       "      <th>15</th>\n",
       "      <td>poutcome_success</td>\n",
       "      <td>1.065082</td>\n",
       "    </tr>\n",
       "    <tr>\n",
       "      <th>12</th>\n",
       "      <td>month_mar</td>\n",
       "      <td>1.047859</td>\n",
       "    </tr>\n",
       "    <tr>\n",
       "      <th>3</th>\n",
       "      <td>job_housemaid</td>\n",
       "      <td>1.034948</td>\n",
       "    </tr>\n",
       "    <tr>\n",
       "      <th>4</th>\n",
       "      <td>job_student</td>\n",
       "      <td>1.032057</td>\n",
       "    </tr>\n",
       "  </tbody>\n",
       "</table>\n",
       "</div>"
      ],
      "text/plain": [
       "            Features       VIF\n",
       "0            balance  4.986113\n",
       "5        housing_yes  2.746314\n",
       "13         month_may  2.497934\n",
       "7    contact_unknown  1.962157\n",
       "1           duration  1.911231\n",
       "11         month_jul  1.661207\n",
       "8          month_aug  1.596571\n",
       "14         month_nov  1.440620\n",
       "2           campaign  1.395957\n",
       "9          month_feb  1.225907\n",
       "6           loan_yes  1.223002\n",
       "10         month_jan  1.108689\n",
       "15  poutcome_success  1.065082\n",
       "12         month_mar  1.047859\n",
       "3      job_housemaid  1.034948\n",
       "4        job_student  1.032057"
      ]
     },
     "execution_count": 172,
     "metadata": {},
     "output_type": "execute_result"
    }
   ],
   "source": [
    "VIF = []\n",
    "for i in list(range(0, X_train.shape[1])):\n",
    "    VIF.append(variance_inflation_factor(X_train.values,i ))\n",
    "\n",
    "vif = pd.DataFrame({'Features': X_train.columns, 'VIF': VIF}).sort_values(by = 'VIF', ascending= False)\n",
    "vif"
   ]
  },
  {
   "cell_type": "markdown",
   "metadata": {},
   "source": [
    "All the columns values has VIF value < 5 and p-value < 0.05 . "
   ]
  },
  {
   "cell_type": "code",
   "execution_count": null,
   "metadata": {},
   "outputs": [],
   "source": []
  },
  {
   "cell_type": "code",
   "execution_count": 173,
   "metadata": {},
   "outputs": [],
   "source": [
    "model = LogisticRegression()"
   ]
  },
  {
   "cell_type": "code",
   "execution_count": 174,
   "metadata": {},
   "outputs": [
    {
     "data": {
      "text/plain": [
       "LogisticRegression()"
      ]
     },
     "execution_count": 174,
     "metadata": {},
     "output_type": "execute_result"
    }
   ],
   "source": [
    "model.fit(X_train,y_train)"
   ]
  },
  {
   "cell_type": "code",
   "execution_count": 175,
   "metadata": {},
   "outputs": [],
   "source": [
    "y_pred = model.predict(X_test)"
   ]
  },
  {
   "cell_type": "markdown",
   "metadata": {},
   "source": [
    "#### Estimate the model performance using k fold cross validation"
   ]
  },
  {
   "cell_type": "code",
   "execution_count": 176,
   "metadata": {},
   "outputs": [],
   "source": [
    "from sklearn.model_selection import KFold, cross_val_score"
   ]
  },
  {
   "cell_type": "code",
   "execution_count": 177,
   "metadata": {},
   "outputs": [],
   "source": [
    "kfold = KFold(n_splits= 5)"
   ]
  },
  {
   "cell_type": "code",
   "execution_count": 178,
   "metadata": {},
   "outputs": [
    {
     "name": "stdout",
     "output_type": "stream",
     "text": [
      "Cross-validation scores:\n",
      "[0.90221169 0.89605055 0.90235424 0.8944541  0.9001422 ]\n"
     ]
    }
   ],
   "source": [
    "print(\"Cross-validation scores:\\n{}\".format( cross_val_score(model, X_train, y_train, cv=kfold)))"
   ]
  },
  {
   "cell_type": "markdown",
   "metadata": {},
   "source": [
    "#### What is the precision, recall, accuracy of your model?"
   ]
  },
  {
   "cell_type": "code",
   "execution_count": 179,
   "metadata": {},
   "outputs": [],
   "source": [
    "from sklearn.metrics import precision_score, recall_score , accuracy_score"
   ]
  },
  {
   "cell_type": "code",
   "execution_count": 180,
   "metadata": {},
   "outputs": [
    {
     "name": "stdout",
     "output_type": "stream",
     "text": [
      "PRECISION SCORE : 0.6776034236804565\n",
      "RECALL SCORE : 0.29930686830497794\n",
      "ACCURACY SCORE : 0.9013565319964613\n"
     ]
    }
   ],
   "source": [
    "print(f'PRECISION SCORE : {precision_score(y_test,y_pred)}')\n",
    "print(f'RECALL SCORE : {recall_score(y_test,y_pred)}')\n",
    "print(f'ACCURACY SCORE : {accuracy_score(y_test,y_pred)}')"
   ]
  },
  {
   "cell_type": "markdown",
   "metadata": {},
   "source": [
    "#### Which features are the most important from your model?"
   ]
  },
  {
   "cell_type": "code",
   "execution_count": 181,
   "metadata": {},
   "outputs": [],
   "source": [
    "importances = pd.DataFrame(data={\n",
    "    'Attribute': X_train.columns,\n",
    "    'Importance': model.coef_[0]\n",
    "})\n",
    "importances = importances.sort_values(by='Importance', ascending=False)"
   ]
  },
  {
   "cell_type": "code",
   "execution_count": 182,
   "metadata": {},
   "outputs": [
    {
     "data": {
      "text/html": [
       "<div>\n",
       "<style scoped>\n",
       "    .dataframe tbody tr th:only-of-type {\n",
       "        vertical-align: middle;\n",
       "    }\n",
       "\n",
       "    .dataframe tbody tr th {\n",
       "        vertical-align: top;\n",
       "    }\n",
       "\n",
       "    .dataframe thead th {\n",
       "        text-align: right;\n",
       "    }\n",
       "</style>\n",
       "<table border=\"1\" class=\"dataframe\">\n",
       "  <thead>\n",
       "    <tr style=\"text-align: right;\">\n",
       "      <th></th>\n",
       "      <th>Attribute</th>\n",
       "      <th>Importance</th>\n",
       "    </tr>\n",
       "  </thead>\n",
       "  <tbody>\n",
       "    <tr>\n",
       "      <th>1</th>\n",
       "      <td>duration</td>\n",
       "      <td>17.746549</td>\n",
       "    </tr>\n",
       "    <tr>\n",
       "      <th>15</th>\n",
       "      <td>poutcome_success</td>\n",
       "      <td>2.323654</td>\n",
       "    </tr>\n",
       "    <tr>\n",
       "      <th>0</th>\n",
       "      <td>balance</td>\n",
       "      <td>1.225682</td>\n",
       "    </tr>\n",
       "    <tr>\n",
       "      <th>12</th>\n",
       "      <td>month_mar</td>\n",
       "      <td>1.151441</td>\n",
       "    </tr>\n",
       "    <tr>\n",
       "      <th>4</th>\n",
       "      <td>job_student</td>\n",
       "      <td>0.614173</td>\n",
       "    </tr>\n",
       "    <tr>\n",
       "      <th>3</th>\n",
       "      <td>job_housemaid</td>\n",
       "      <td>-0.367326</td>\n",
       "    </tr>\n",
       "    <tr>\n",
       "      <th>6</th>\n",
       "      <td>loan_yes</td>\n",
       "      <td>-0.370550</td>\n",
       "    </tr>\n",
       "    <tr>\n",
       "      <th>9</th>\n",
       "      <td>month_feb</td>\n",
       "      <td>-0.636230</td>\n",
       "    </tr>\n",
       "    <tr>\n",
       "      <th>5</th>\n",
       "      <td>housing_yes</td>\n",
       "      <td>-0.736268</td>\n",
       "    </tr>\n",
       "    <tr>\n",
       "      <th>13</th>\n",
       "      <td>month_may</td>\n",
       "      <td>-0.777910</td>\n",
       "    </tr>\n",
       "    <tr>\n",
       "      <th>8</th>\n",
       "      <td>month_aug</td>\n",
       "      <td>-1.182700</td>\n",
       "    </tr>\n",
       "    <tr>\n",
       "      <th>11</th>\n",
       "      <td>month_jul</td>\n",
       "      <td>-1.221181</td>\n",
       "    </tr>\n",
       "    <tr>\n",
       "      <th>14</th>\n",
       "      <td>month_nov</td>\n",
       "      <td>-1.252397</td>\n",
       "    </tr>\n",
       "    <tr>\n",
       "      <th>10</th>\n",
       "      <td>month_jan</td>\n",
       "      <td>-1.495040</td>\n",
       "    </tr>\n",
       "    <tr>\n",
       "      <th>7</th>\n",
       "      <td>contact_unknown</td>\n",
       "      <td>-1.661047</td>\n",
       "    </tr>\n",
       "    <tr>\n",
       "      <th>2</th>\n",
       "      <td>campaign</td>\n",
       "      <td>-4.208907</td>\n",
       "    </tr>\n",
       "  </tbody>\n",
       "</table>\n",
       "</div>"
      ],
      "text/plain": [
       "           Attribute  Importance\n",
       "1           duration   17.746549\n",
       "15  poutcome_success    2.323654\n",
       "0            balance    1.225682\n",
       "12         month_mar    1.151441\n",
       "4        job_student    0.614173\n",
       "3      job_housemaid   -0.367326\n",
       "6           loan_yes   -0.370550\n",
       "9          month_feb   -0.636230\n",
       "5        housing_yes   -0.736268\n",
       "13         month_may   -0.777910\n",
       "8          month_aug   -1.182700\n",
       "11         month_jul   -1.221181\n",
       "14         month_nov   -1.252397\n",
       "10         month_jan   -1.495040\n",
       "7    contact_unknown   -1.661047\n",
       "2           campaign   -4.208907"
      ]
     },
     "execution_count": 182,
     "metadata": {},
     "output_type": "execute_result"
    }
   ],
   "source": [
    "importances"
   ]
  },
  {
   "cell_type": "code",
   "execution_count": 187,
   "metadata": {},
   "outputs": [
    {
     "data": {
      "image/png": "[encoded data removed]",
      "text/plain": [
       "<Figure size 504x360 with 1 Axes>"
      ]
     },
     "metadata": {
      "needs_background": "light"
     },
     "output_type": "display_data"
    }
   ],
   "source": [
    "plt.figure(figsize = (7,5))\n",
    "plt.bar(x=importances['Attribute'], height=importances['Importance'], color='#087E8B')\n",
    "plt.title('Feature importances obtained from coefficients')\n",
    "plt.xticks(rotation='vertical')\n",
    "plt.show()"
   ]
  },
  {
   "cell_type": "markdown",
   "metadata": {},
   "source": [
    "# Predictive model 2: Random Forest"
   ]
  },
  {
   "cell_type": "code",
   "execution_count": 188,
   "metadata": {},
   "outputs": [],
   "source": [
    "from sklearn.model_selection import train_test_split"
   ]
  },
  {
   "cell_type": "code",
   "execution_count": 189,
   "metadata": {},
   "outputs": [],
   "source": [
    "from sklearn.ensemble import RandomForestClassifier"
   ]
  },
  {
   "cell_type": "code",
   "execution_count": 190,
   "metadata": {},
   "outputs": [],
   "source": [
    "X_train,X_test, y_train,y_test = train_test_split(X,y,test_size = 0.3, stratify = y, random_state = 10)"
   ]
  },
  {
   "cell_type": "code",
   "execution_count": 251,
   "metadata": {},
   "outputs": [],
   "source": [
    "random = RandomForestClassifier(n_estimators= 50 , max_depth= 18,random_state= 10)"
   ]
  },
  {
   "cell_type": "code",
   "execution_count": 252,
   "metadata": {},
   "outputs": [
    {
     "data": {
      "text/plain": [
       "RandomForestClassifier(max_depth=18, n_estimators=50, random_state=10)"
      ]
     },
     "execution_count": 252,
     "metadata": {},
     "output_type": "execute_result"
    }
   ],
   "source": [
    "random.fit(X_train,y_train)"
   ]
  },
  {
   "cell_type": "code",
   "execution_count": 253,
   "metadata": {},
   "outputs": [
    {
     "name": "stdout",
     "output_type": "stream",
     "text": [
      "Training accuracy score : 0.9704553354188391\n",
      "Testing accuracy score : 0.9049690356826895\n"
     ]
    }
   ],
   "source": [
    "print(f'Training accuracy score : {random.score(X_train,y_train)}')\n",
    "print(f'Testing accuracy score : {random.score(X_test,y_test)}')"
   ]
  },
  {
   "cell_type": "markdown",
   "metadata": {},
   "source": [
    "#### Estimate the model performance using k fold cross validation"
   ]
  },
  {
   "cell_type": "code",
   "execution_count": 254,
   "metadata": {},
   "outputs": [
    {
     "name": "stdout",
     "output_type": "stream",
     "text": [
      "Cross-validation scores:\n",
      "[0.88894155 0.88278041 0.888766   0.88623795 0.888766  ]\n"
     ]
    }
   ],
   "source": [
    "kfold = KFold(n_splits= 5)\n",
    "print(\"Cross-validation scores:\\n{}\".format( cross_val_score(model, X_train, y_train, cv=kfold)))"
   ]
  },
  {
   "cell_type": "markdown",
   "metadata": {},
   "source": [
    "#### What is the precision, recall, accuracy of your model?"
   ]
  },
  {
   "cell_type": "code",
   "execution_count": 255,
   "metadata": {},
   "outputs": [
    {
     "name": "stdout",
     "output_type": "stream",
     "text": [
      "PRECISION SCORE : 0.6782296650717703\n",
      "RECALL SCORE : 0.3572778827977316\n",
      "ACCURACY SCORE : 0.9049690356826895\n"
     ]
    }
   ],
   "source": [
    "print(f'PRECISION SCORE : {precision_score(y_test,random.predict(X_test))}')\n",
    "print(f'RECALL SCORE : {recall_score(y_test,random.predict(X_test))}')\n",
    "print(f'ACCURACY SCORE : {accuracy_score(y_test,random.predict(X_test))}')"
   ]
  },
  {
   "cell_type": "markdown",
   "metadata": {},
   "source": [
    "#### Using the feature importance values from the Random Forest module, identify the most important features for the model\n"
   ]
  },
  {
   "cell_type": "code",
   "execution_count": 256,
   "metadata": {},
   "outputs": [
    {
     "data": {
      "image/png": "[encoded data removed]",
      "text/plain": [
       "<Figure size 720x576 with 1 Axes>"
      ]
     },
     "metadata": {
      "needs_background": "light"
     },
     "output_type": "display_data"
    }
   ],
   "source": [
    "features = X.columns\n",
    "importance = random.feature_importances_\n",
    "indices = np.argsort(importance)\n",
    "\n",
    "plt.figure(figsize = (10,8))\n",
    "plt.barh(range(len(indices)), importance[indices], color = 'b', align= 'center')\n",
    "plt.yticks(range(len(indices)), [features[i] for i in indices] )\n",
    "plt.title('Feature Importance')\n",
    "plt.xlabel('Relative importance')\n",
    "plt.show()"
   ]
  },
  {
   "cell_type": "markdown",
   "metadata": {},
   "source": [
    "# Compare the performance of the Random Forest and the logistic model –"
   ]
  },
  {
   "cell_type": "markdown",
   "metadata": {},
   "source": [
    "#### Evaluate both models on the test set"
   ]
  },
  {
   "cell_type": "code",
   "execution_count": 257,
   "metadata": {},
   "outputs": [
    {
     "name": "stdout",
     "output_type": "stream",
     "text": [
      "LOGISTIC MODEL ACCURACY SCORE : 0.9013565319964613\n",
      "RANDOM FOREST ACCURACY SCORE : 0.9049690356826895\n"
     ]
    }
   ],
   "source": [
    "print(f'LOGISTIC MODEL ACCURACY SCORE : {accuracy_score(y_test,y_pred)}')\n",
    "print(f'RANDOM FOREST ACCURACY SCORE : {accuracy_score(y_test,random.predict(X_test))}')"
   ]
  },
  {
   "cell_type": "markdown",
   "metadata": {},
   "source": [
    "#### Which metric did you choose and why?"
   ]
  },
  {
   "cell_type": "code",
   "execution_count": null,
   "metadata": {},
   "outputs": [],
   "source": []
  },
  {
   "cell_type": "markdown",
   "metadata": {},
   "source": [
    "#### Which model has better performance on the test set?"
   ]
  },
  {
   "cell_type": "raw",
   "metadata": {},
   "source": [
    "Random Forest"
   ]
  },
  {
   "cell_type": "markdown",
   "metadata": {},
   "source": [
    "#### Compare the feature importance from the different models – do they agree? Are the top features similar in both models?"
   ]
  },
  {
   "cell_type": "raw",
   "metadata": {},
   "source": [
    "TOP_Features in both the models are [poutcome_success, balance , duration, campaign, contact_unknown and month_mar]\n",
    "Yes, They are almost similar in both models. "
   ]
  },
  {
   "cell_type": "code",
   "execution_count": null,
   "metadata": {},
   "outputs": [],
   "source": []
  }
 ],
 "metadata": {
  "kernelspec": {
   "display_name": "Python 3",
   "language": "python",
   "name": "python3"
  },
  "language_info": {
   "codemirror_mode": {
    "name": "ipython",
    "version": 3
   },
   "file_extension": ".py",
   "mimetype": "text/x-python",
   "name": "python",
   "nbconvert_exporter": "python",
   "pygments_lexer": "ipython3",
   "version": "3.8.5"
  }
 },
 "nbformat": 4,
 "nbformat_minor": 4
}
